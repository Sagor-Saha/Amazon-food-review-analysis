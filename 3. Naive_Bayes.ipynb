{
 "cells": [
  {
   "cell_type": "code",
   "execution_count": 1,
   "metadata": {
    "colab": {
     "base_uri": "https://localhost:8080/"
    },
    "executionInfo": {
     "elapsed": 24373,
     "status": "ok",
     "timestamp": 1629989823469,
     "user": {
      "displayName": "Sagar Saha",
      "photoUrl": "https://lh3.googleusercontent.com/a-/AOh14GicLETJuVBRiET1eCxKwWcSMrdeomVWv6nl6pk9JQ=s64",
      "userId": "04756931713955304096"
     },
     "user_tz": -360
    },
    "id": "4GLy5syqoKx1",
    "outputId": "4f757ec2-df3c-431a-8d0d-123033551ae3"
   },
   "outputs": [
    {
     "name": "stdout",
     "output_type": "stream",
     "text": [
      "Mounted at /content/gdrive\n"
     ]
    }
   ],
   "source": [
    "#mounting drive\n",
    "from google.colab import drive\n",
    "drive.mount('/content/gdrive')"
   ]
  },
  {
   "cell_type": "code",
   "execution_count": 3,
   "metadata": {
    "colab": {
     "base_uri": "https://localhost:8080/"
    },
    "executionInfo": {
     "elapsed": 430,
     "status": "ok",
     "timestamp": 1629989850183,
     "user": {
      "displayName": "Sagar Saha",
      "photoUrl": "https://lh3.googleusercontent.com/a-/AOh14GicLETJuVBRiET1eCxKwWcSMrdeomVWv6nl6pk9JQ=s64",
      "userId": "04756931713955304096"
     },
     "user_tz": -360
    },
    "id": "gxAcdH1-9mh1",
    "outputId": "8229a8fb-dd19-4439-c47b-b7aa56c3c16b"
   },
   "outputs": [
    {
     "name": "stdout",
     "output_type": "stream",
     "text": [
      "/content/gdrive/MyDrive/Notebooks\n"
     ]
    }
   ],
   "source": [
    "%cd /content/gdrive/MyDrive/Notebooks/\n"
   ]
  },
  {
   "cell_type": "code",
   "execution_count": 1,
   "metadata": {
    "executionInfo": {
     "elapsed": 2228,
     "status": "ok",
     "timestamp": 1629989855164,
     "user": {
      "displayName": "Sagar Saha",
      "photoUrl": "https://lh3.googleusercontent.com/a-/AOh14GicLETJuVBRiET1eCxKwWcSMrdeomVWv6nl6pk9JQ=s64",
      "userId": "04756931713955304096"
     },
     "user_tz": -360
    },
    "id": "S0UnvGuqoEzT"
   },
   "outputs": [],
   "source": [
    "%matplotlib inline\n",
    "import warnings\n",
    "warnings.filterwarnings(\"ignore\")\n",
    "\n",
    "import sqlite3\n",
    "import pandas as pd\n",
    "import numpy as np\n",
    "import nltk\n",
    "import string\n",
    "import matplotlib.pyplot as plt\n",
    "import seaborn as sns\n",
    "from sklearn.feature_extraction.text import TfidfTransformer\n",
    "from sklearn.feature_extraction.text import TfidfVectorizer\n",
    "\n",
    "from sklearn.feature_extraction.text import CountVectorizer\n",
    "from sklearn.metrics import confusion_matrix\n",
    "from sklearn import metrics\n",
    "from sklearn.metrics import roc_curve, auc\n",
    "from nltk.stem.porter import PorterStemmer\n",
    "from sklearn.metrics import roc_auc_score\n",
    "from bs4 import BeautifulSoup\n",
    "import re\n",
    "import string\n",
    "from nltk.corpus import stopwords\n",
    "from nltk.stem import PorterStemmer\n",
    "from nltk.stem.wordnet import WordNetLemmatizer\n",
    "from sklearn.manifold import TSNE\n",
    "from gensim.models import Word2Vec\n",
    "from gensim.models import KeyedVectors\n",
    "from sklearn.naive_bayes import MultinomialNB\n",
    "from sklearn.metrics import roc_auc_score\n",
    "import pickle\n",
    "import seaborn as sns\n",
    "from tqdm import tqdm\n",
    "import os"
   ]
  },
  {
   "cell_type": "code",
   "execution_count": 2,
   "metadata": {
    "executionInfo": {
     "elapsed": 4087,
     "status": "ok",
     "timestamp": 1629989859675,
     "user": {
      "displayName": "Sagar Saha",
      "photoUrl": "https://lh3.googleusercontent.com/a-/AOh14GicLETJuVBRiET1eCxKwWcSMrdeomVWv6nl6pk9JQ=s64",
      "userId": "04756931713955304096"
     },
     "user_tz": -360
    },
    "id": "mBxOwE75oYGF"
   },
   "outputs": [],
   "source": [
    "df = pd.read_csv('processed_df.csv')\n",
    "#one row is empty.we will drop it\n",
    "df = df.dropna(axis=0)\n",
    "# #sampling 100k points \n",
    "df = df.sample(100000,random_state=100)\n",
    "#sortimg based on time\n",
    "df['Time'] = pd.to_datetime(df['Time'],unit='s')\n",
    "df = df.sort_values('Time')\n",
    "df = df.reset_index(drop=True)\n",
    "\n"
   ]
  },
  {
   "cell_type": "code",
   "execution_count": 3,
   "metadata": {
    "executionInfo": {
     "elapsed": 1,
     "status": "ok",
     "timestamp": 1629989860986,
     "user": {
      "displayName": "Sagar Saha",
      "photoUrl": "https://lh3.googleusercontent.com/a-/AOh14GicLETJuVBRiET1eCxKwWcSMrdeomVWv6nl6pk9JQ=s64",
      "userId": "04756931713955304096"
     },
     "user_tz": -360
    },
    "id": "pi5c808iF-6k"
   },
   "outputs": [],
   "source": [
    "#splitting data to train.cv and test\n",
    "from sklearn.model_selection import train_test_split\n",
    "x = df['clean_text']\n",
    "y = df['Score']\n",
    "X_train,X_test,y_train,y_test = train_test_split(x,y,test_size=0.3,stratify=y,random_state=100)\n",
    "X_tr,X_cv,y_tr,y_cv = train_test_split(X_train,y_train,test_size=0.3,stratify=y_train,random_state=100)"
   ]
  },
  {
   "cell_type": "markdown",
   "metadata": {
    "id": "nusBbyYsoZRx"
   },
   "source": [
    "## Bag of words"
   ]
  },
  {
   "cell_type": "code",
   "execution_count": 4,
   "metadata": {
    "colab": {
     "base_uri": "https://localhost:8080/"
    },
    "executionInfo": {
     "elapsed": 5975,
     "status": "ok",
     "timestamp": 1629989870304,
     "user": {
      "displayName": "Sagar Saha",
      "photoUrl": "https://lh3.googleusercontent.com/a-/AOh14GicLETJuVBRiET1eCxKwWcSMrdeomVWv6nl6pk9JQ=s64",
      "userId": "04756931713955304096"
     },
     "user_tz": -360
    },
    "id": "0WFWx98KHDsu",
    "outputId": "5ae98abb-a728-4e4f-ef8e-42545148d618"
   },
   "outputs": [
    {
     "name": "stdout",
     "output_type": "stream",
     "text": [
      "shape of X_train_bow is (49000, 43086)\n",
      "shape of X_cv_bow is (21000, 43086)\n",
      "shape of X_test_bow is (30000, 43086)\n"
     ]
    }
   ],
   "source": [
    "bow = CountVectorizer()\n",
    "bow.fit(X_tr)\n",
    "X_train_bow = bow.transform(X_tr)\n",
    "X_cv_bow = bow.transform(X_cv)\n",
    "X_test_bow = bow.transform(X_test)\n",
    "bow_features = bow.get_feature_names()\n",
    "\n",
    "print('shape of X_train_bow is {}'.format(X_train_bow.get_shape()))\n",
    "print('shape of X_cv_bow is {}'.format(X_cv_bow.get_shape()))\n",
    "print('shape of X_test_bow is {}'.format(X_test_bow.get_shape()))"
   ]
  },
  {
   "cell_type": "markdown",
   "metadata": {
    "id": "onxh4idSHJ6V"
   },
   "source": [
    "# TFIDF"
   ]
  },
  {
   "cell_type": "code",
   "execution_count": 5,
   "metadata": {
    "executionInfo": {
     "elapsed": 6080,
     "status": "ok",
     "timestamp": 1629989876377,
     "user": {
      "displayName": "Sagar Saha",
      "photoUrl": "https://lh3.googleusercontent.com/a-/AOh14GicLETJuVBRiET1eCxKwWcSMrdeomVWv6nl6pk9JQ=s64",
      "userId": "04756931713955304096"
     },
     "user_tz": -360
    },
    "id": "HjZ3YL5RHDyG"
   },
   "outputs": [],
   "source": [
    "#applying bow on x_train and x_test\n",
    "vectorizer = TfidfVectorizer()\n",
    "vectorizer.fit(X_tr)\n",
    "tfidf_features = vectorizer.get_feature_names()\n",
    "# we use the fitted CountVectorizer to convert the text to vector\n",
    "X_train_tfidf = vectorizer.transform(X_tr)\n",
    "X_cv_tfidf = vectorizer.transform(X_cv)\n",
    "X_test_tfidf = vectorizer.transform(X_test)"
   ]
  },
  {
   "cell_type": "markdown",
   "metadata": {
    "id": "5h_o734FHODQ"
   },
   "source": [
    "#Word2Vec"
   ]
  },
  {
   "cell_type": "code",
   "execution_count": 6,
   "metadata": {
    "executionInfo": {
     "elapsed": 21757,
     "status": "ok",
     "timestamp": 1629989898125,
     "user": {
      "displayName": "Sagar Saha",
      "photoUrl": "https://lh3.googleusercontent.com/a-/AOh14GicLETJuVBRiET1eCxKwWcSMrdeomVWv6nl6pk9JQ=s64",
      "userId": "04756931713955304096"
     },
     "user_tz": -360
    },
    "id": "UWHWSsdHHD2W"
   },
   "outputs": [],
   "source": [
    "preprocessed_reviews = X_tr.values\n",
    "train_sentence = [rev.split() for rev in preprocessed_reviews]\n",
    "# min_count = 5 considers only words that occured atleast 5 times\n",
    "# size = length of vector\n",
    "w2v_model_train = Word2Vec(train_sentence,min_count=5,size=50, workers=4)\n",
    "w2v_words = list(w2v_model_train.wv.vocab)"
   ]
  },
  {
   "cell_type": "markdown",
   "metadata": {
    "id": "64KAyA-HHT1j"
   },
   "source": [
    "## AvgWord2Vec"
   ]
  },
  {
   "cell_type": "code",
   "execution_count": 7,
   "metadata": {
    "colab": {
     "base_uri": "https://localhost:8080/"
    },
    "executionInfo": {
     "elapsed": 250366,
     "status": "ok",
     "timestamp": 1629990148487,
     "user": {
      "displayName": "Sagar Saha",
      "photoUrl": "https://lh3.googleusercontent.com/a-/AOh14GicLETJuVBRiET1eCxKwWcSMrdeomVWv6nl6pk9JQ=s64",
      "userId": "04756931713955304096"
     },
     "user_tz": -360
    },
    "id": "L2EnJ7Z_HD5g",
    "outputId": "c73ba9a3-7872-47d9-90af-dcc8ee3dd28e"
   },
   "outputs": [
    {
     "name": "stderr",
     "output_type": "stream",
     "text": [
      "100%|███████████████████████████████████████████████████████████████████████████| 49000/49000 [01:18<00:00, 624.33it/s]\n"
     ]
    },
    {
     "name": "stdout",
     "output_type": "stream",
     "text": [
      "49000\n",
      "50\n"
     ]
    },
    {
     "name": "stderr",
     "output_type": "stream",
     "text": [
      "100%|███████████████████████████████████████████████████████████████████████████| 21000/21000 [00:33<00:00, 621.79it/s]\n"
     ]
    },
    {
     "name": "stdout",
     "output_type": "stream",
     "text": [
      "21000\n",
      "50\n"
     ]
    },
    {
     "name": "stderr",
     "output_type": "stream",
     "text": [
      "100%|███████████████████████████████████████████████████████████████████████████| 30000/30000 [00:48<00:00, 620.96it/s]"
     ]
    },
    {
     "name": "stdout",
     "output_type": "stream",
     "text": [
      "30000\n",
      "50\n"
     ]
    },
    {
     "name": "stderr",
     "output_type": "stream",
     "text": [
      "\n"
     ]
    }
   ],
   "source": [
    "train_reviews = X_tr.values\n",
    "train_sentence = [rev.split() for rev in train_reviews]\n",
    "\n",
    "sent_vectors_train = []\n",
    "for sent in tqdm(train_sentence):\n",
    "    sent_vec = np.zeros(50)\n",
    "    cnt_words = 0\n",
    "    for word in sent:\n",
    "        if word in w2v_words:\n",
    "            vector = w2v_model_train.wv[word]\n",
    "            sent_vec += vector\n",
    "            cnt_words += 1\n",
    "    if cnt_words != 0:\n",
    "        sent_vec /= cnt_words\n",
    "    sent_vectors_train.append(sent_vec)\n",
    "\n",
    "print(len(sent_vectors_train))\n",
    "print(len(sent_vectors_train[0]))\n",
    "\n",
    "########################################################\n",
    "\n",
    "cv_reviews = X_cv.values\n",
    "cv_sentence = [rev.split() for rev in cv_reviews]\n",
    "\n",
    "sent_vectors_cv = []\n",
    "for sent in tqdm(cv_sentence):\n",
    "    count = 0\n",
    "    sent_vec = np.zeros(50)\n",
    "    for word in sent:\n",
    "        if word in w2v_words:\n",
    "            vector = w2v_model_train.wv[word]\n",
    "            sent_vec += vector\n",
    "            count += 1\n",
    "            \n",
    "    if count != 0:\n",
    "        sent_vec /= count\n",
    "    sent_vectors_cv.append(sent_vec)\n",
    "\n",
    "print(len(sent_vectors_cv))\n",
    "print(len(sent_vectors_cv[0]))\n",
    "\n",
    "########################################################\n",
    "test_reviews = X_test.values\n",
    "test_sentence = [rev.split() for rev in test_reviews]\n",
    "\n",
    "sent_vectors_test = []\n",
    "for sent in tqdm(test_sentence):\n",
    "    count = 0\n",
    "    sent_vec = np.zeros(50)\n",
    "    for word in sent:\n",
    "        if word in w2v_words:\n",
    "            vector = w2v_model_train.wv[word]\n",
    "            sent_vec += vector\n",
    "            count += 1\n",
    "            \n",
    "    if count != 0:\n",
    "        sent_vec /= count\n",
    "    sent_vectors_test.append(sent_vec)\n",
    "\n",
    "print(len(sent_vectors_test))\n",
    "print(len(sent_vectors_test[0]))"
   ]
  },
  {
   "cell_type": "markdown",
   "metadata": {
    "id": "bZd1AKTjHauG"
   },
   "source": [
    "## TFIDF Word2Vec"
   ]
  },
  {
   "cell_type": "code",
   "execution_count": 8,
   "metadata": {
    "colab": {
     "base_uri": "https://localhost:8080/"
    },
    "executionInfo": {
     "elapsed": 1743137,
     "status": "ok",
     "timestamp": 1629991891620,
     "user": {
      "displayName": "Sagar Saha",
      "photoUrl": "https://lh3.googleusercontent.com/a-/AOh14GicLETJuVBRiET1eCxKwWcSMrdeomVWv6nl6pk9JQ=s64",
      "userId": "04756931713955304096"
     },
     "user_tz": -360
    },
    "id": "Eap1VRpnHD9W",
    "outputId": "cc301570-a9d6-45d7-d84c-7681f448a723"
   },
   "outputs": [
    {
     "name": "stderr",
     "output_type": "stream",
     "text": [
      "100%|████████████████████████████████████████████████████████████████████████████| 49000/49000 [16:43<00:00, 48.85it/s]"
     ]
    },
    {
     "name": "stdout",
     "output_type": "stream",
     "text": [
      "49000\n",
      "[-1.55825669 -0.35529014  0.86537362  0.58127055 -0.36973246 -0.62067076\n",
      " -0.04746119 -1.26524101 -0.5398465  -0.7970504  -0.66625128  1.18075244\n",
      " -1.02974119 -0.44524866 -0.39376018 -1.72988441 -1.52497473  0.26617613\n",
      " -1.48040046  1.10566325  1.10145614  2.07295973  0.35891277  0.50296094\n",
      " -0.43758117 -0.8725804  -0.48639766 -1.70937891  0.47980756  1.43419112\n",
      " -0.81725744  0.09494249 -0.58746173 -0.23870876 -1.38720916  1.90244862\n",
      " -0.32916643  1.14942878  0.57196601 -0.25193329 -0.95679104 -0.94972109\n",
      "  0.20456823 -1.32523    -0.2926762  -1.0180857   1.77061126  0.10636948\n",
      "  1.54405271  0.02340289]\n"
     ]
    },
    {
     "name": "stderr",
     "output_type": "stream",
     "text": [
      "\n"
     ]
    }
   ],
   "source": [
    "tfidf = TfidfVectorizer()\n",
    "tfidf.fit(X_tr)\n",
    "dictionary = dict(zip(tfidf.get_feature_names(), list(tfidf.idf_)))\n",
    "tfidf_feats = tfidf.get_feature_names()\n",
    "\n",
    "train_reviews = X_tr.values\n",
    "train_sentence = [rev.split() for rev in train_reviews]\n",
    "sent_vectors_train = []\n",
    "for sent in tqdm(train_sentence):\n",
    "    sent_vec = np.zeros(50)\n",
    "    weight_sum = 0\n",
    "    for word in sent:\n",
    "        if word in tfidf_feats and word in w2v_words:\n",
    "            vec = w2v_model_train.wv[word]\n",
    "            # tf * idf\n",
    "            tfidf_value = (sent.count(word)/len(sent)) * dictionary[word] \n",
    "            vec = vec * tfidf_value\n",
    "            sent_vec += vec\n",
    "            weight_sum += tfidf_value\n",
    "    if weight_sum != 0:\n",
    "        sent_vec /= weight_sum\n",
    "    sent_vectors_train.append(sent_vec)\n",
    "print(len(sent_vectors_train))\n",
    "print(sent_vectors_train[0])\n"
   ]
  },
  {
   "cell_type": "code",
   "execution_count": 9,
   "metadata": {
    "colab": {
     "base_uri": "https://localhost:8080/"
    },
    "executionInfo": {
     "elapsed": 1797794,
     "status": "ok",
     "timestamp": 1629993689407,
     "user": {
      "displayName": "Sagar Saha",
      "photoUrl": "https://lh3.googleusercontent.com/a-/AOh14GicLETJuVBRiET1eCxKwWcSMrdeomVWv6nl6pk9JQ=s64",
      "userId": "04756931713955304096"
     },
     "user_tz": -360
    },
    "id": "2-x7kqG7HD0y",
    "outputId": "86d6a0b8-c63c-4a0a-b53a-e46a6191a73e"
   },
   "outputs": [
    {
     "name": "stderr",
     "output_type": "stream",
     "text": [
      "100%|████████████████████████████████████████████████████████████████████████████| 21000/21000 [06:28<00:00, 53.99it/s]\n"
     ]
    },
    {
     "name": "stdout",
     "output_type": "stream",
     "text": [
      "21000\n",
      "[-1.04559737  0.60644091  0.1089876  -1.19240335 -0.29175345  0.51334009\n",
      " -0.72670826  0.68344916  0.66162768  0.23507735 -0.95268741  0.17309111\n",
      "  0.00589341 -0.20348125  0.66661039 -0.60642519  0.37436512 -0.14550496\n",
      " -0.5777665   0.44261109  0.00474718  0.30704668  0.87934666  0.76469747\n",
      " -0.54531037  0.26720433 -0.69530859  0.43475254  0.12080326 -1.04563036\n",
      "  1.40752807 -0.08655924 -0.85540447  1.41871168  0.74212978  0.41641158\n",
      "  0.45767156  0.82242668 -0.18880918 -0.07272902 -0.46533849 -0.20609635\n",
      " -0.66602485  0.50405307  1.66376663 -0.01905803 -0.36598468 -0.81928091\n",
      " -0.48280359  0.70159318]\n"
     ]
    },
    {
     "name": "stderr",
     "output_type": "stream",
     "text": [
      "100%|████████████████████████████████████████████████████████████████████████████| 30000/30000 [09:52<00:00, 50.63it/s]"
     ]
    },
    {
     "name": "stdout",
     "output_type": "stream",
     "text": [
      "30000\n",
      "[ 0.33551728 -0.0339503   0.54574551  0.18539578  0.45548078  0.23559941\n",
      "  0.04104288  0.38177511  0.42521721  0.26923846  0.069368   -0.57887351\n",
      " -0.11086136  0.24885409  0.24451498 -0.45886632 -0.09032865 -0.21735664\n",
      " -0.87025633  0.21896334  0.27482783  0.02089392  0.36656552  0.69213675\n",
      "  0.85772157 -0.25323022 -0.06914865  0.01996259  0.35158086  0.00889495\n",
      "  0.28726104 -0.56510921 -0.57172816 -0.20755423  0.08045389  0.34041872\n",
      "  0.02754974  0.43995994  0.23895672 -0.10420459 -0.59206917 -0.76155744\n",
      " -0.15682886  0.47176913  0.05090478  0.24377141  0.26601633 -0.60154763\n",
      "  0.09929887  0.38564639]\n"
     ]
    },
    {
     "name": "stderr",
     "output_type": "stream",
     "text": [
      "\n"
     ]
    }
   ],
   "source": [
    "cv_reviews = X_cv.values\n",
    "cv_sentence = [rev.split() for rev in cv_reviews]\n",
    "sent_vectors_cv = []\n",
    "for sent in tqdm(cv_sentence):\n",
    "    sent_vec = np.zeros(50)\n",
    "    weight_sum = 0\n",
    "    for word in sent:\n",
    "        if word in tfidf_feats and word in w2v_words:\n",
    "            vec = w2v_model_train.wv[word]\n",
    "            # tf * idf\n",
    "            tfidf_value = (sent.count(word)/len(sent)) * dictionary[word] \n",
    "            vec = vec * tfidf_value\n",
    "            sent_vec += vec\n",
    "            weight_sum += tfidf_value\n",
    "    if weight_sum != 0:\n",
    "        sent_vec /= weight_sum\n",
    "    sent_vectors_cv.append(sent_vec)\n",
    "print(len(sent_vectors_cv))\n",
    "print(sent_vectors_cv[0])   \n",
    "\n",
    "###############################################\n",
    "\n",
    "test_reviews = X_test.values\n",
    "test_sentence = [rev.split() for rev in test_reviews]\n",
    "sent_vectors_test = []\n",
    "for sent in tqdm(test_sentence):\n",
    "    sent_vec = np.zeros(50)\n",
    "    weight_sum = 0\n",
    "    for word in sent:\n",
    "        if word in tfidf_feats and word in w2v_words:\n",
    "            vec = w2v_model_train.wv[word]\n",
    "            # tf * idf\n",
    "            tfidf_value = (sent.count(word)/len(sent)) * dictionary[word] \n",
    "            vec = vec * tfidf_value\n",
    "            sent_vec += vec\n",
    "            weight_sum += tfidf_value\n",
    "    if weight_sum != 0:\n",
    "        sent_vec /= weight_sum\n",
    "    sent_vectors_test.append(sent_vec)\n",
    "print(len(sent_vectors_test))\n",
    "print(sent_vectors_test[0])   "
   ]
  },
  {
   "cell_type": "code",
   "execution_count": 10,
   "metadata": {
    "executionInfo": {
     "elapsed": 4,
     "status": "ok",
     "timestamp": 1629993689407,
     "user": {
      "displayName": "Sagar Saha",
      "photoUrl": "https://lh3.googleusercontent.com/a-/AOh14GicLETJuVBRiET1eCxKwWcSMrdeomVWv6nl6pk9JQ=s64",
      "userId": "04756931713955304096"
     },
     "user_tz": -360
    },
    "id": "Up06kVBHELZJ"
   },
   "outputs": [],
   "source": [
    "# helper function to plot confusion matrix\n",
    "def plot_confusion_matrixes(model,x_train,y_train,x_test,y_test):\n",
    "    cm_train = confusion_matrix(y_train,model.predict(x_train))\n",
    "    cm_test =  confusion_matrix(y_test,model.predict(x_test))\n",
    "    class_label = [\"negative\", \"positive\"]\n",
    "    df_train = pd.DataFrame(cm_train, index = class_label, columns = class_label)\n",
    "    df_test = pd.DataFrame(cm_test, index = class_label, columns = class_label)\n",
    "    f, axes = plt.subplots(1, 2,figsize=(12,4))\n",
    "\n",
    "    for i in range(2):\n",
    "      df = df_train if i==0 else df_test\n",
    "      sns.heatmap(df, annot = True, fmt = \"d\",ax=axes[i])\n",
    "      axes[i].set_title(f\"Confusion Matrix - {'Train' if i==0 else 'Test'}\")\n",
    "      axes[i].set_xlabel(\"Predicted Label\")\n",
    "      axes[i].set_ylabel(\"True Label\")\n",
    "    plt.show()"
   ]
  },
  {
   "cell_type": "markdown",
   "metadata": {
    "id": "QutTO8neETQ4"
   },
   "source": [
    "# Naive Bayes\n",
    "\n",
    "## Naive Bayes On BagOfWords Features "
   ]
  },
  {
   "cell_type": "code",
   "execution_count": 11,
   "metadata": {
    "colab": {
     "base_uri": "https://localhost:8080/",
     "height": 0
    },
    "executionInfo": {
     "elapsed": 1188,
     "status": "ok",
     "timestamp": 1629993690592,
     "user": {
      "displayName": "Sagar Saha",
      "photoUrl": "https://lh3.googleusercontent.com/a-/AOh14GicLETJuVBRiET1eCxKwWcSMrdeomVWv6nl6pk9JQ=s64",
      "userId": "04756931713955304096"
     },
     "user_tz": -360
    },
    "id": "XRuo8nBSEPdS",
    "outputId": "f821cbed-55bb-4b26-cb98-7424b2c244c3"
   },
   "outputs": [
    {
     "data": {
      "image/png": "[encoded data removed]",
      "text/plain": [
       "<Figure size 432x288 with 1 Axes>"
      ]
     },
     "metadata": {
      "needs_background": "light"
     },
     "output_type": "display_data"
    }
   ],
   "source": [
    "train_auc = []\n",
    "cv_auc = []\n",
    "alpha = [0.0001,0.001,0.01,0.1,1,10,100,1000,10000]\n",
    "for param in alpha:\n",
    "    naive = MultinomialNB(alpha=param)\n",
    "    naive.fit(X_train_bow,y_tr)\n",
    "    # roc_auc_score(y_true, y_score) the 2nd parameter should be probability estimates of the positive class\n",
    "    y_train_pred =  naive.predict_proba(X_train_bow)[:,1]\n",
    "    y_cv_pred =  naive.predict_proba(X_cv_bow)[:,1]\n",
    "    train_auc.append(roc_auc_score(y_tr,y_train_pred))\n",
    "    cv_auc.append(roc_auc_score(y_cv, y_cv_pred))\n",
    "#plotting\n",
    "plt.grid(True)\n",
    "plt.plot(np.log(alpha), train_auc, label='Train AUC')\n",
    "plt.plot(np.log(alpha), cv_auc, label='CV AUC')\n",
    "plt.scatter(np.log(alpha), train_auc)\n",
    "plt.scatter(np.log(alpha), cv_auc)\n",
    "plt.legend()\n",
    "plt.xlabel(\"alpha: hyperparameter\")\n",
    "plt.ylabel(\"AUC\")\n",
    "plt.title(\"ERROR PLOTS\")\n",
    "plt.show()"
   ]
  },
  {
   "cell_type": "code",
   "execution_count": 12,
   "metadata": {
    "colab": {
     "base_uri": "https://localhost:8080/",
     "height": 0
    },
    "executionInfo": {
     "elapsed": 1057,
     "status": "ok",
     "timestamp": 1629993691642,
     "user": {
      "displayName": "Sagar Saha",
      "photoUrl": "https://lh3.googleusercontent.com/a-/AOh14GicLETJuVBRiET1eCxKwWcSMrdeomVWv6nl6pk9JQ=s64",
      "userId": "04756931713955304096"
     },
     "user_tz": -360
    },
    "id": "EqTY0lKXE3Dh",
    "outputId": "f478d524-d4a3-42c2-b36a-0f17462e8d4b"
   },
   "outputs": [
    {
     "data": {
      "image/png": "[encoded data removed]",
      "text/plain": [
       "<Figure size 432x288 with 1 Axes>"
      ]
     },
     "metadata": {
      "needs_background": "light"
     },
     "output_type": "display_data"
    },
    {
     "name": "stdout",
     "output_type": "stream",
     "text": [
      "Area under train roc 0.9739512560681639\n",
      "Area under test roc 0.9107060729107539\n"
     ]
    },
    {
     "data": {
      "image/png": "[encoded data removed]",
      "text/plain": [
       "<Figure size 864x288 with 4 Axes>"
      ]
     },
     "metadata": {
      "needs_background": "light"
     },
     "output_type": "display_data"
    }
   ],
   "source": [
    "from sklearn.metrics import roc_curve, auc\n",
    "optimal_alpha = 0.1\n",
    "naive_opt = MultinomialNB(alpha=optimal_alpha)\n",
    "naive_opt = naive_opt.fit(X_train_bow,y_tr)\n",
    "train_fpr, train_tpr, thresholds = roc_curve(y_tr, naive_opt.predict_proba(X_train_bow)[:,1])\n",
    "test_fpr, test_tpr, thresholds = roc_curve(y_test, naive_opt.predict_proba(X_test_bow)[:,1])\n",
    "\n",
    "plt.grid(True)\n",
    "plt.plot(train_fpr, train_tpr, label=\"train AUC =\"+str(auc(train_fpr, train_tpr)))\n",
    "plt.plot(test_fpr, test_tpr, label=\"test AUC =\"+str(auc(test_fpr, test_tpr)))\n",
    "plt.legend()\n",
    "plt.xlabel(\"fpr\")\n",
    "plt.ylabel(\"tpr\")\n",
    "plt.title(\"ROC CURVE FOR OPTIMAL K\")\n",
    "plt.show()\n",
    "\n",
    "#Area under ROC curve\n",
    "print('Area under train roc {}'.format(auc(train_fpr, train_tpr)))\n",
    "print('Area under test roc {}'.format(auc(test_fpr, test_tpr)))\n",
    "plot_confusion_matrixes(naive_opt,X_train_bow,y_tr,X_test_bow,y_test)"
   ]
  },
  {
   "cell_type": "markdown",
   "metadata": {
    "id": "KX02rcM1IayL"
   },
   "source": [
    "### Feature importance"
   ]
  },
  {
   "cell_type": "code",
   "execution_count": 13,
   "metadata": {
    "colab": {
     "base_uri": "https://localhost:8080/"
    },
    "executionInfo": {
     "elapsed": 17,
     "status": "ok",
     "timestamp": 1629993691643,
     "user": {
      "displayName": "Sagar Saha",
      "photoUrl": "https://lh3.googleusercontent.com/a-/AOh14GicLETJuVBRiET1eCxKwWcSMrdeomVWv6nl6pk9JQ=s64",
      "userId": "04756931713955304096"
     },
     "user_tz": -360
    },
    "id": "vevMCQvqIdJX",
    "outputId": "ea945420-73b8-49c6-ba5c-72e31108cff3"
   },
   "outputs": [
    {
     "name": "stdout",
     "output_type": "stream",
     "text": [
      "Top 10 negative features are: \n",
      "                        coef\n",
      "maybeif          -16.588911\n",
      "metformin        -16.588911\n",
      "choffy           -16.588911\n",
      "chocolite        -16.588911\n",
      "chocolatre       -16.588911\n",
      "chocolatl        -16.588911\n",
      "chocolatestevita -16.588911\n",
      "sorgham          -16.588911\n",
      "chocoerfection   -16.588911\n",
      "mezetta          -16.588911\n",
      "----------------------------------------------------------------------------------------------------\n",
      "Top 10 positive features are: \n",
      "              coef\n",
      "not     -3.731187\n",
      "like    -4.558436\n",
      "good    -4.670113\n",
      "great   -4.750567\n",
      "one     -4.912838\n",
      "taste   -4.969906\n",
      "product -5.064343\n",
      "coffee  -5.072581\n",
      "flavor  -5.082496\n",
      "would   -5.101703\n"
     ]
    }
   ],
   "source": [
    "data_l = naive_opt.coef_.reshape(-1,1)\n",
    "features = bow_features\n",
    "datafr_l = pd.DataFrame(data_l,columns=['coef'],index=features)\n",
    "#Top 10 negative features\n",
    "negative = datafr_l.sort_values(by='coef').head(10)\n",
    "#Top 10 positive features\n",
    "positive = datafr_l.sort_values(by='coef',ascending=False).head(10)\n",
    "print('Top 10 negative features are: \\n {}'.format(negative))\n",
    "print('--'*50)\n",
    "print('Top 10 positive features are: \\n {}'.format(positive))"
   ]
  },
  {
   "cell_type": "markdown",
   "metadata": {
    "id": "lc8502fnFtC7"
   },
   "source": [
    "# Naive Bayes On TFIDF Features"
   ]
  },
  {
   "cell_type": "code",
   "execution_count": 14,
   "metadata": {
    "colab": {
     "base_uri": "https://localhost:8080/",
     "height": 0
    },
    "executionInfo": {
     "elapsed": 1064,
     "status": "ok",
     "timestamp": 1629993692698,
     "user": {
      "displayName": "Sagar Saha",
      "photoUrl": "https://lh3.googleusercontent.com/a-/AOh14GicLETJuVBRiET1eCxKwWcSMrdeomVWv6nl6pk9JQ=s64",
      "userId": "04756931713955304096"
     },
     "user_tz": -360
    },
    "id": "4cORSgJrFNGU",
    "outputId": "aec0e264-b109-4534-b192-3969241c635e"
   },
   "outputs": [
    {
     "data": {
      "image/png": "[encoded data removed]",
      "text/plain": [
       "<Figure size 432x288 with 1 Axes>"
      ]
     },
     "metadata": {
      "needs_background": "light"
     },
     "output_type": "display_data"
    }
   ],
   "source": [
    "train_auc = []\n",
    "cv_auc = []\n",
    "alpha = [0.0001,0.001,0.01,0.1,1,10,100,1000,10000]\n",
    "for param in alpha:\n",
    "    naive = MultinomialNB(alpha=param)\n",
    "    naive.fit(X_train_bow,y_tr)\n",
    "    # roc_auc_score(y_true, y_score) the 2nd parameter should be probability estimates of the positive class\n",
    "    y_train_pred =  naive.predict_proba(X_train_tfidf)[:,1]\n",
    "    y_cv_pred =  naive.predict_proba(X_cv_tfidf)[:,1]\n",
    "    train_auc.append(roc_auc_score(y_tr,y_train_pred))\n",
    "    cv_auc.append(roc_auc_score(y_cv, y_cv_pred))\n",
    "#plotting\n",
    "plt.grid(True)\n",
    "plt.plot(np.log(alpha), train_auc, label='Train AUC')\n",
    "plt.plot(np.log(alpha), cv_auc, label='CV AUC')\n",
    "plt.scatter(np.log(alpha), train_auc)\n",
    "plt.scatter(np.log(alpha), cv_auc)\n",
    "plt.legend()\n",
    "plt.xlabel(\"alpha: hyperparameter\")\n",
    "plt.ylabel(\"AUC\")\n",
    "plt.title(\"ERROR PLOTS\")\n",
    "plt.show()"
   ]
  },
  {
   "cell_type": "code",
   "execution_count": 15,
   "metadata": {
    "colab": {
     "base_uri": "https://localhost:8080/",
     "height": 0
    },
    "executionInfo": {
     "elapsed": 1270,
     "status": "ok",
     "timestamp": 1629993693965,
     "user": {
      "displayName": "Sagar Saha",
      "photoUrl": "https://lh3.googleusercontent.com/a-/AOh14GicLETJuVBRiET1eCxKwWcSMrdeomVWv6nl6pk9JQ=s64",
      "userId": "04756931713955304096"
     },
     "user_tz": -360
    },
    "id": "UkI0C-bXF7ih",
    "outputId": "475ce234-3642-4c06-ff3b-8ea00ccf7285"
   },
   "outputs": [
    {
     "data": {
      "image/png": "[encoded data removed]",
      "text/plain": [
       "<Figure size 432x288 with 1 Axes>"
      ]
     },
     "metadata": {
      "needs_background": "light"
     },
     "output_type": "display_data"
    },
    {
     "name": "stdout",
     "output_type": "stream",
     "text": [
      "Area under train roc 0.9739679721201785\n",
      "Area under test roc 0.9237537434643751\n"
     ]
    },
    {
     "data": {
      "image/png": "[encoded data removed]",
      "text/plain": [
       "<Figure size 864x288 with 4 Axes>"
      ]
     },
     "metadata": {
      "needs_background": "light"
     },
     "output_type": "display_data"
    }
   ],
   "source": [
    "from sklearn.metrics import roc_curve, auc\n",
    "optimal_alpha = 0.1\n",
    "naive_opt = MultinomialNB(alpha=optimal_alpha)\n",
    "naive_opt = naive_opt.fit(X_train_tfidf,y_tr)\n",
    "train_fpr, train_tpr, thresholds = roc_curve(y_tr, naive_opt.predict_proba(X_train_tfidf)[:,1])\n",
    "test_fpr, test_tpr, thresholds = roc_curve(y_test, naive_opt.predict_proba(X_test_tfidf)[:,1])\n",
    "\n",
    "plt.grid(True)\n",
    "plt.plot(train_fpr, train_tpr, label=\"train AUC =\"+str(auc(train_fpr, train_tpr)))\n",
    "plt.plot(test_fpr, test_tpr, label=\"test AUC =\"+str(auc(test_fpr, test_tpr)))\n",
    "plt.legend()\n",
    "plt.xlabel(\"fpr\")\n",
    "plt.ylabel(\"tpr\")\n",
    "plt.title(\"ROC CURVE FOR OPTIMAL K\")\n",
    "plt.show()\n",
    "\n",
    "#Area under ROC curve\n",
    "print('Area under train roc {}'.format(auc(train_fpr, train_tpr)))\n",
    "print('Area under test roc {}'.format(auc(test_fpr, test_tpr)))\n",
    "\n",
    "plot_confusion_matrixes(naive_opt,X_train_tfidf,y_tr,X_test_tfidf,y_test)"
   ]
  },
  {
   "cell_type": "markdown",
   "metadata": {
    "id": "M3Ey7Y-XHirK"
   },
   "source": [
    "### Feature importance"
   ]
  },
  {
   "cell_type": "code",
   "execution_count": 16,
   "metadata": {
    "colab": {
     "base_uri": "https://localhost:8080/"
    },
    "executionInfo": {
     "elapsed": 10,
     "status": "ok",
     "timestamp": 1629993693966,
     "user": {
      "displayName": "Sagar Saha",
      "photoUrl": "https://lh3.googleusercontent.com/a-/AOh14GicLETJuVBRiET1eCxKwWcSMrdeomVWv6nl6pk9JQ=s64",
      "userId": "04756931713955304096"
     },
     "user_tz": -360
    },
    "id": "iyEBUu1RGqCK",
    "outputId": "a25ffaca-f3f8-4343-e1d8-ead5f0c0cd49"
   },
   "outputs": [
    {
     "name": "stdout",
     "output_type": "stream",
     "text": [
      "Top 10 negative features are: \n",
      "                        coef\n",
      "cyanide          -14.530479\n",
      "hadnt            -14.530479\n",
      "hackleback       -14.530479\n",
      "oatfit           -14.530479\n",
      "hacked           -14.530479\n",
      "environmentalism -14.530479\n",
      "environmentalist -14.530479\n",
      "envisioning      -14.530479\n",
      "habitant         -14.530479\n",
      "bauli            -14.530479\n",
      "----------------------------------------------------------------------------------------------------\n",
      "Top 10 positive features are: \n",
      "              coef\n",
      "not     -4.876303\n",
      "great   -5.180446\n",
      "good    -5.261669\n",
      "like    -5.343107\n",
      "coffee  -5.384229\n",
      "love    -5.438336\n",
      "tea     -5.441488\n",
      "product -5.528185\n",
      "taste   -5.554512\n",
      "flavor  -5.592877\n"
     ]
    }
   ],
   "source": [
    "data_l = naive_opt.coef_.reshape(-1,1)\n",
    "features = tfidf_features\n",
    "datafr_l = pd.DataFrame(data_l,columns=['coef'],index=features)\n",
    "#Top 10 negative features\n",
    "negative = datafr_l.sort_values(by='coef').head(10)\n",
    "#Top 10 positive features\n",
    "positive = datafr_l.sort_values(by='coef',ascending=False).head(10)\n",
    "print('Top 10 negative features are: \\n {}'.format(negative))\n",
    "print('--'*50)\n",
    "print('Top 10 positive features are: \\n {}'.format(positive))"
   ]
  },
  {
   "cell_type": "markdown",
   "metadata": {
    "id": "6BX49SqOJBE1"
   },
   "source": [
    "## Observations and Conclusions\n",
    "\n",
    "\n",
    "* We tried out multinomial naive bayes here with bow and tfidf features we tried earlier.\n",
    "* Even after hyperparamter tuning both models are slightly overfitting.\n",
    "* Tfidf features model performed slightly better.\n",
    "* We also able to find out most important features contributing to each model\n",
    "* Naive bayes can be considered as a baseline model for our problem"
   ]
  },
  {
   "cell_type": "code",
   "execution_count": 17,
   "metadata": {
    "colab": {
     "base_uri": "https://localhost:8080/"
    },
    "executionInfo": {
     "elapsed": 7,
     "status": "ok",
     "timestamp": 1629993693966,
     "user": {
      "displayName": "Sagar Saha",
      "photoUrl": "https://lh3.googleusercontent.com/a-/AOh14GicLETJuVBRiET1eCxKwWcSMrdeomVWv6nl6pk9JQ=s64",
      "userId": "04756931713955304096"
     },
     "user_tz": -360
    },
    "id": "X1vqoRO4IDOO",
    "outputId": "74755e5a-8055-473b-d864-6578203513cb"
   },
   "outputs": [
    {
     "name": "stdout",
     "output_type": "stream",
     "text": [
      "+--------+-------------+----------------------+--------------------+--------------------+\n",
      "| Vector |  Algorithm  | Hyperparameter-alpha |     Train AUC      |      Test AUC      |\n",
      "+--------+-------------+----------------------+--------------------+--------------------+\n",
      "|  bow   | naive-bayes |         0.1          | 0.9861029705576311 | 0.9362621984059971 |\n",
      "| tfidf  | naive-bayes |         0.1          | 0.9850954607767481 | 0.9422741199475984 |\n",
      "+--------+-------------+----------------------+--------------------+--------------------+\n"
     ]
    }
   ],
   "source": [
    "from prettytable import PrettyTable\n",
    "    \n",
    "z = PrettyTable()\n",
    "z.field_names = [\"Vector\",\"Algorithm\",\"Hyperparameter-alpha\", \"Train AUC\", \"Test AUC\"]\n",
    "z.add_row([\"bow\",\"naive-bayes\",0.1,0.9861029705576311, 0.9362621984059971])\n",
    "z.add_row([\"tfidf\",\"naive-bayes\",0.1,0.9850954607767481,0.9422741199475984])\n",
    "print(z)\n"
   ]
  },
  {
   "cell_type": "code",
   "execution_count": null,
   "metadata": {},
   "outputs": [],
   "source": []
  }
 ],
 "metadata": {
  "colab": {
   "name": "3. Naive_Bayes.ipynb",
   "provenance": []
  },
  "kernelspec": {
   "display_name": "Python 3",
   "language": "python",
   "name": "python3"
  },
  "language_info": {
   "codemirror_mode": {
    "name": "ipython",
    "version": 3
   },
   "file_extension": ".py",
   "mimetype": "text/x-python",
   "name": "python",
   "nbconvert_exporter": "python",
   "pygments_lexer": "ipython3",
   "version": "3.6.13"
  }
 },
 "nbformat": 4,
 "nbformat_minor": 1
}
