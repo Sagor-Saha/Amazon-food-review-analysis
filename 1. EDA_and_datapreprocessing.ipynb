{
 "cells": [
  {
   "cell_type": "markdown",
   "metadata": {
    "id": "FSIwnE_2MsKJ"
   },
   "source": [
    "# About Dataset\n",
    "\n",
    "Data Source: https://www.kaggle.com/snap/amazon-fine-food-reviews \n",
    "\n",
    "\n",
    "\n",
    "The Amazon Fine Food Reviews dataset consists of reviews of fine foods from Amazon.\n",
    "\n",
    "* Number of reviews: 568,454\n",
    "* Number of users: 256,059\n",
    "* Number of products: 74,258\n",
    "* Timespan: Oct 1999 - Oct 2012\n",
    "* Number of Attributes/Columns in data: 10\n",
    "\n",
    "### Attribute Information:\n",
    "\n",
    "* Id\n",
    "* ProductId - unique identifier for the product\n",
    "* UserId - unqiue identifier for the user\n",
    "* ProfileName\n",
    "* HelpfulnessNumerator - number of users who found the review helpful\n",
    "* HelpfulnessDenominator - number of users who indicated whether they found the * review helpful or not\n",
    "* Score - rating between 1 and 5\n",
    "* Time - timestamp for the review\n",
    "* Summary - brief summary of the review\n",
    "* Text - text of the review\n",
    "\n",
    "\n",
    "### Objective:\n",
    "\n",
    "**Given a review, determine whether the review is positive (rating of 4 or 5) or negative (rating of 1 or 2).**\n",
    "\n",
    "\n",
    "> How to determine if a review is positive or negative?\n",
    "\n",
    "We could use Score/Rating. A rating of 4 or 5 can be cosnidered as a positive review. A rating of 1 or 2 can be considered as negative one. A review of rating 3 is considered nuetral and such reviews are ignored from our analysis. This is an approximate and proxy way of determining the polarity (positivity/negativity) of a review."
   ]
  },
  {
   "cell_type": "code",
   "execution_count": 40,
   "metadata": {
    "colab": {
     "base_uri": "https://localhost:8080/"
    },
    "executionInfo": {
     "elapsed": 3,
     "status": "ok",
     "timestamp": 1629982830991,
     "user": {
      "displayName": "Sagar Saha",
      "photoUrl": "https://lh3.googleusercontent.com/a-/AOh14GicLETJuVBRiET1eCxKwWcSMrdeomVWv6nl6pk9JQ=s64",
      "userId": "04756931713955304096"
     },
     "user_tz": -360
    },
    "id": "jAyk45AGEALt",
    "outputId": "2d8f5d0c-5eb9-46e0-8075-e801d32522d2"
   },
   "outputs": [
    {
     "name": "stdout",
     "output_type": "stream",
     "text": [
      "Drive already mounted at /content/drive; to attempt to forcibly remount, call drive.mount(\"/content/drive\", force_remount=True).\n"
     ]
    }
   ],
   "source": [
    "from google.colab import drive\n",
    "drive.mount('/content/drive')"
   ]
  },
  {
   "cell_type": "code",
   "execution_count": 41,
   "metadata": {
    "colab": {
     "base_uri": "https://localhost:8080/"
    },
    "executionInfo": {
     "elapsed": 1728,
     "status": "ok",
     "timestamp": 1629982839944,
     "user": {
      "displayName": "Sagar Saha",
      "photoUrl": "https://lh3.googleusercontent.com/a-/AOh14GicLETJuVBRiET1eCxKwWcSMrdeomVWv6nl6pk9JQ=s64",
      "userId": "04756931713955304096"
     },
     "user_tz": -360
    },
    "id": "JdS2odGMEB-y",
    "outputId": "be93c9b3-b9e2-4c24-c3d1-168a48aaa16d"
   },
   "outputs": [
    {
     "name": "stdout",
     "output_type": "stream",
     "text": [
      "/content/drive/MyDrive/Notebooks\n"
     ]
    }
   ],
   "source": [
    "%cd /content/drive/MyDrive/Notebooks/"
   ]
  },
  {
   "cell_type": "markdown",
   "metadata": {
    "id": "HEXZoy6FMxTD"
   },
   "source": [
    "# [1] Reading data"
   ]
  },
  {
   "cell_type": "code",
   "execution_count": 1,
   "metadata": {
    "executionInfo": {
     "elapsed": 9,
     "status": "ok",
     "timestamp": 1629982842652,
     "user": {
      "displayName": "Sagar Saha",
      "photoUrl": "https://lh3.googleusercontent.com/a-/AOh14GicLETJuVBRiET1eCxKwWcSMrdeomVWv6nl6pk9JQ=s64",
      "userId": "04756931713955304096"
     },
     "user_tz": -360
    },
    "id": "osQsJZ7EKXEg"
   },
   "outputs": [],
   "source": [
    "%matplotlib inline\n",
    "import warnings\n",
    "warnings.filterwarnings(\"ignore\")\n",
    "\n",
    "\n",
    "import sqlite3\n",
    "import pandas as pd\n",
    "import numpy as np\n",
    "import nltk\n",
    "import string\n",
    "import matplotlib.pyplot as plt\n",
    "import seaborn as sns\n",
    "from sklearn.feature_extraction.text import TfidfTransformer\n",
    "from sklearn.feature_extraction.text import TfidfVectorizer\n",
    "\n",
    "from sklearn.feature_extraction.text import CountVectorizer\n",
    "from sklearn.metrics import confusion_matrix\n",
    "from sklearn import metrics\n",
    "from sklearn.metrics import roc_curve, auc\n",
    "from nltk.stem.porter import PorterStemmer\n",
    "\n",
    "from bs4 import BeautifulSoup\n",
    "import re\n",
    "import string\n",
    "from nltk.corpus import stopwords\n",
    "from nltk.stem import PorterStemmer\n",
    "from nltk.stem.wordnet import WordNetLemmatizer\n",
    "\n",
    "from gensim.models import Word2Vec\n",
    "from gensim.models import KeyedVectors\n",
    "import pickle\n",
    "import seaborn as sns\n",
    "from tqdm import tqdm\n",
    "import os"
   ]
  },
  {
   "cell_type": "markdown",
   "metadata": {
    "id": "vHt-bh-lNpP0"
   },
   "source": [
    "We have data in format of sql. So we will use sqlite to read it"
   ]
  },
  {
   "cell_type": "markdown",
   "metadata": {
    "id": "jIOry8rKQZ6w"
   },
   "source": [
    "We have data available in sqlite format.We will read those datapoints in which rating is not equal to 3.We feed so that we can take those datapoints where rating above 3 can be considered as positive review and rating below 3 can be considerd as negative reviews."
   ]
  },
  {
   "cell_type": "code",
   "execution_count": 2,
   "metadata": {
    "colab": {
     "base_uri": "https://localhost:8080/",
     "height": 700
    },
    "executionInfo": {
     "elapsed": 5167,
     "status": "ok",
     "timestamp": 1629982852012,
     "user": {
      "displayName": "Sagar Saha",
      "photoUrl": "https://lh3.googleusercontent.com/a-/AOh14GicLETJuVBRiET1eCxKwWcSMrdeomVWv6nl6pk9JQ=s64",
      "userId": "04756931713955304096"
     },
     "user_tz": -360
    },
    "id": "B2YLPW_pP4kK",
    "outputId": "6120e5ad-b58d-430b-c861-f46a5b191e5c"
   },
   "outputs": [
    {
     "name": "stdout",
     "output_type": "stream",
     "text": [
      "Shape of data is (568454, 10)\n"
     ]
    },
    {
     "data": {
      "text/html": [
       "<div>\n",
       "<style scoped>\n",
       "    .dataframe tbody tr th:only-of-type {\n",
       "        vertical-align: middle;\n",
       "    }\n",
       "\n",
       "    .dataframe tbody tr th {\n",
       "        vertical-align: top;\n",
       "    }\n",
       "\n",
       "    .dataframe thead th {\n",
       "        text-align: right;\n",
       "    }\n",
       "</style>\n",
       "<table border=\"1\" class=\"dataframe\">\n",
       "  <thead>\n",
       "    <tr style=\"text-align: right;\">\n",
       "      <th></th>\n",
       "      <th>Id</th>\n",
       "      <th>ProductId</th>\n",
       "      <th>UserId</th>\n",
       "      <th>ProfileName</th>\n",
       "      <th>HelpfulnessNumerator</th>\n",
       "      <th>HelpfulnessDenominator</th>\n",
       "      <th>Score</th>\n",
       "      <th>Time</th>\n",
       "      <th>Summary</th>\n",
       "      <th>Text</th>\n",
       "    </tr>\n",
       "  </thead>\n",
       "  <tbody>\n",
       "    <tr>\n",
       "      <th>0</th>\n",
       "      <td>1</td>\n",
       "      <td>B001E4KFG0</td>\n",
       "      <td>A3SGXH7AUHU8GW</td>\n",
       "      <td>delmartian</td>\n",
       "      <td>1</td>\n",
       "      <td>1</td>\n",
       "      <td>5</td>\n",
       "      <td>1303862400</td>\n",
       "      <td>Good Quality Dog Food</td>\n",
       "      <td>I have bought several of the Vitality canned d...</td>\n",
       "    </tr>\n",
       "    <tr>\n",
       "      <th>1</th>\n",
       "      <td>2</td>\n",
       "      <td>B00813GRG4</td>\n",
       "      <td>A1D87F6ZCVE5NK</td>\n",
       "      <td>dll pa</td>\n",
       "      <td>0</td>\n",
       "      <td>0</td>\n",
       "      <td>1</td>\n",
       "      <td>1346976000</td>\n",
       "      <td>Not as Advertised</td>\n",
       "      <td>Product arrived labeled as Jumbo Salted Peanut...</td>\n",
       "    </tr>\n",
       "    <tr>\n",
       "      <th>2</th>\n",
       "      <td>3</td>\n",
       "      <td>B000LQOCH0</td>\n",
       "      <td>ABXLMWJIXXAIN</td>\n",
       "      <td>Natalia Corres \"Natalia Corres\"</td>\n",
       "      <td>1</td>\n",
       "      <td>1</td>\n",
       "      <td>4</td>\n",
       "      <td>1219017600</td>\n",
       "      <td>\"Delight\" says it all</td>\n",
       "      <td>This is a confection that has been around a fe...</td>\n",
       "    </tr>\n",
       "    <tr>\n",
       "      <th>3</th>\n",
       "      <td>4</td>\n",
       "      <td>B000UA0QIQ</td>\n",
       "      <td>A395BORC6FGVXV</td>\n",
       "      <td>Karl</td>\n",
       "      <td>3</td>\n",
       "      <td>3</td>\n",
       "      <td>2</td>\n",
       "      <td>1307923200</td>\n",
       "      <td>Cough Medicine</td>\n",
       "      <td>If you are looking for the secret ingredient i...</td>\n",
       "    </tr>\n",
       "    <tr>\n",
       "      <th>4</th>\n",
       "      <td>5</td>\n",
       "      <td>B006K2ZZ7K</td>\n",
       "      <td>A1UQRSCLF8GW1T</td>\n",
       "      <td>Michael D. Bigham \"M. Wassir\"</td>\n",
       "      <td>0</td>\n",
       "      <td>0</td>\n",
       "      <td>5</td>\n",
       "      <td>1350777600</td>\n",
       "      <td>Great taffy</td>\n",
       "      <td>Great taffy at a great price.  There was a wid...</td>\n",
       "    </tr>\n",
       "  </tbody>\n",
       "</table>\n",
       "</div>"
      ],
      "text/plain": [
       "   Id   ProductId          UserId                      ProfileName  \\\n",
       "0   1  B001E4KFG0  A3SGXH7AUHU8GW                       delmartian   \n",
       "1   2  B00813GRG4  A1D87F6ZCVE5NK                           dll pa   \n",
       "2   3  B000LQOCH0   ABXLMWJIXXAIN  Natalia Corres \"Natalia Corres\"   \n",
       "3   4  B000UA0QIQ  A395BORC6FGVXV                             Karl   \n",
       "4   5  B006K2ZZ7K  A1UQRSCLF8GW1T    Michael D. Bigham \"M. Wassir\"   \n",
       "\n",
       "   HelpfulnessNumerator  HelpfulnessDenominator  Score        Time  \\\n",
       "0                     1                       1      5  1303862400   \n",
       "1                     0                       0      1  1346976000   \n",
       "2                     1                       1      4  1219017600   \n",
       "3                     3                       3      2  1307923200   \n",
       "4                     0                       0      5  1350777600   \n",
       "\n",
       "                 Summary                                               Text  \n",
       "0  Good Quality Dog Food  I have bought several of the Vitality canned d...  \n",
       "1      Not as Advertised  Product arrived labeled as Jumbo Salted Peanut...  \n",
       "2  \"Delight\" says it all  This is a confection that has been around a fe...  \n",
       "3         Cough Medicine  If you are looking for the secret ingredient i...  \n",
       "4            Great taffy  Great taffy at a great price.  There was a wid...  "
      ]
     },
     "execution_count": 2,
     "metadata": {},
     "output_type": "execute_result"
    }
   ],
   "source": [
    "# using SQLite Table to read data.\n",
    "con = sqlite3.connect('database.sqlite') \n",
    "data = pd.read_sql_query(\"\"\" SELECT * FROM Reviews\"\"\", con)\n",
    "\n",
    "print(f'Shape of data is {data.shape}')\n",
    "\n",
    "data.head()"
   ]
  },
  {
   "cell_type": "markdown",
   "metadata": {
    "id": "vYh6FLabM7k0"
   },
   "source": [
    "# [2] Exploratory data Analysis"
   ]
  },
  {
   "cell_type": "markdown",
   "metadata": {
    "id": "mw0WNoEYS7hy"
   },
   "source": [
    "##Data cleaning\n",
    "\n",
    "**First we will check for missing values**"
   ]
  },
  {
   "cell_type": "code",
   "execution_count": 3,
   "metadata": {
    "colab": {
     "base_uri": "https://localhost:8080/"
    },
    "executionInfo": {
     "elapsed": 722,
     "status": "ok",
     "timestamp": 1629982852731,
     "user": {
      "displayName": "Sagar Saha",
      "photoUrl": "https://lh3.googleusercontent.com/a-/AOh14GicLETJuVBRiET1eCxKwWcSMrdeomVWv6nl6pk9JQ=s64",
      "userId": "04756931713955304096"
     },
     "user_tz": -360
    },
    "id": "LsciJwV_M6cX",
    "outputId": "158a5ac7-26a0-4c48-be31-3af2584de211"
   },
   "outputs": [
    {
     "name": "stdout",
     "output_type": "stream",
     "text": [
      "<class 'pandas.core.frame.DataFrame'>\n",
      "RangeIndex: 568454 entries, 0 to 568453\n",
      "Data columns (total 10 columns):\n",
      " #   Column                  Non-Null Count   Dtype \n",
      "---  ------                  --------------   ----- \n",
      " 0   Id                      568454 non-null  int64 \n",
      " 1   ProductId               568454 non-null  object\n",
      " 2   UserId                  568454 non-null  object\n",
      " 3   ProfileName             568454 non-null  object\n",
      " 4   HelpfulnessNumerator    568454 non-null  int64 \n",
      " 5   HelpfulnessDenominator  568454 non-null  int64 \n",
      " 6   Score                   568454 non-null  int64 \n",
      " 7   Time                    568454 non-null  int64 \n",
      " 8   Summary                 568454 non-null  object\n",
      " 9   Text                    568454 non-null  object\n",
      "dtypes: int64(5), object(5)\n",
      "memory usage: 43.4+ MB\n"
     ]
    }
   ],
   "source": [
    "data.info()"
   ]
  },
  {
   "cell_type": "markdown",
   "metadata": {
    "id": "mXG-Om7FS383"
   },
   "source": [
    "We can see that we don't have any null values. \n",
    "\n",
    "**Now we will check for duplicate entries**"
   ]
  },
  {
   "cell_type": "code",
   "execution_count": 4,
   "metadata": {
    "colab": {
     "base_uri": "https://localhost:8080/"
    },
    "executionInfo": {
     "elapsed": 1008,
     "status": "ok",
     "timestamp": 1629982853735,
     "user": {
      "displayName": "Sagar Saha",
      "photoUrl": "https://lh3.googleusercontent.com/a-/AOh14GicLETJuVBRiET1eCxKwWcSMrdeomVWv6nl6pk9JQ=s64",
      "userId": "04756931713955304096"
     },
     "user_tz": -360
    },
    "id": "FDvJKQbWSgux",
    "outputId": "7be0a0a2-bbce-40a2-db08-98c9fd1e76eb"
   },
   "outputs": [
    {
     "data": {
      "text/plain": [
       "(232415, 10)"
      ]
     },
     "execution_count": 4,
     "metadata": {},
     "output_type": "execute_result"
    }
   ],
   "source": [
    "# filtered_data = data.drop(columns=['ProductId'])\n",
    "dup = data[data.duplicated(subset=['UserId','ProfileName','Time','Text'],keep=False)]\n",
    "dup.shape"
   ]
  },
  {
   "cell_type": "code",
   "execution_count": 5,
   "metadata": {
    "colab": {
     "base_uri": "https://localhost:8080/",
     "height": 417
    },
    "executionInfo": {
     "elapsed": 3,
     "status": "ok",
     "timestamp": 1629982853735,
     "user": {
      "displayName": "Sagar Saha",
      "photoUrl": "https://lh3.googleusercontent.com/a-/AOh14GicLETJuVBRiET1eCxKwWcSMrdeomVWv6nl6pk9JQ=s64",
      "userId": "04756931713955304096"
     },
     "user_tz": -360
    },
    "id": "CCAaL8ASbpLZ",
    "outputId": "bdc8f9a8-12f8-451c-ef77-84868dfd4d7e"
   },
   "outputs": [
    {
     "data": {
      "text/html": [
       "<div>\n",
       "<style scoped>\n",
       "    .dataframe tbody tr th:only-of-type {\n",
       "        vertical-align: middle;\n",
       "    }\n",
       "\n",
       "    .dataframe tbody tr th {\n",
       "        vertical-align: top;\n",
       "    }\n",
       "\n",
       "    .dataframe thead th {\n",
       "        text-align: right;\n",
       "    }\n",
       "</style>\n",
       "<table border=\"1\" class=\"dataframe\">\n",
       "  <thead>\n",
       "    <tr style=\"text-align: right;\">\n",
       "      <th></th>\n",
       "      <th>Id</th>\n",
       "      <th>ProductId</th>\n",
       "      <th>UserId</th>\n",
       "      <th>ProfileName</th>\n",
       "      <th>HelpfulnessNumerator</th>\n",
       "      <th>HelpfulnessDenominator</th>\n",
       "      <th>Score</th>\n",
       "      <th>Time</th>\n",
       "      <th>Summary</th>\n",
       "      <th>Text</th>\n",
       "    </tr>\n",
       "  </thead>\n",
       "  <tbody>\n",
       "    <tr>\n",
       "      <th>3</th>\n",
       "      <td>4</td>\n",
       "      <td>B000UA0QIQ</td>\n",
       "      <td>A395BORC6FGVXV</td>\n",
       "      <td>Karl</td>\n",
       "      <td>3</td>\n",
       "      <td>3</td>\n",
       "      <td>2</td>\n",
       "      <td>1307923200</td>\n",
       "      <td>Cough Medicine</td>\n",
       "      <td>If you are looking for the secret ingredient i...</td>\n",
       "    </tr>\n",
       "    <tr>\n",
       "      <th>136303</th>\n",
       "      <td>136304</td>\n",
       "      <td>B002Y7526Y</td>\n",
       "      <td>A395BORC6FGVXV</td>\n",
       "      <td>Karl</td>\n",
       "      <td>3</td>\n",
       "      <td>3</td>\n",
       "      <td>2</td>\n",
       "      <td>1307923200</td>\n",
       "      <td>Cough Medicine</td>\n",
       "      <td>If you are looking for the secret ingredient i...</td>\n",
       "    </tr>\n",
       "    <tr>\n",
       "      <th>544172</th>\n",
       "      <td>544173</td>\n",
       "      <td>B000U9WZ54</td>\n",
       "      <td>A395BORC6FGVXV</td>\n",
       "      <td>Karl</td>\n",
       "      <td>3</td>\n",
       "      <td>3</td>\n",
       "      <td>2</td>\n",
       "      <td>1307923200</td>\n",
       "      <td>Cough Medicine</td>\n",
       "      <td>If you are looking for the secret ingredient i...</td>\n",
       "    </tr>\n",
       "  </tbody>\n",
       "</table>\n",
       "</div>"
      ],
      "text/plain": [
       "            Id   ProductId          UserId ProfileName  HelpfulnessNumerator  \\\n",
       "3            4  B000UA0QIQ  A395BORC6FGVXV        Karl                     3   \n",
       "136303  136304  B002Y7526Y  A395BORC6FGVXV        Karl                     3   \n",
       "544172  544173  B000U9WZ54  A395BORC6FGVXV        Karl                     3   \n",
       "\n",
       "        HelpfulnessDenominator  Score        Time         Summary  \\\n",
       "3                            3      2  1307923200  Cough Medicine   \n",
       "136303                       3      2  1307923200  Cough Medicine   \n",
       "544172                       3      2  1307923200  Cough Medicine   \n",
       "\n",
       "                                                     Text  \n",
       "3       If you are looking for the secret ingredient i...  \n",
       "136303  If you are looking for the secret ingredient i...  \n",
       "544172  If you are looking for the secret ingredient i...  "
      ]
     },
     "execution_count": 5,
     "metadata": {},
     "output_type": "execute_result"
    }
   ],
   "source": [
    "# example for duplicate entry\n",
    "# 'AR5J8UI46CURR'\n",
    "dup[dup['UserId'] == 'A395BORC6FGVXV']"
   ]
  },
  {
   "cell_type": "markdown",
   "metadata": {
    "id": "kpMn-Ib6atjs"
   },
   "source": [
    "Now we will keep only the first entry and will delete rest of the entry"
   ]
  },
  {
   "cell_type": "code",
   "execution_count": 6,
   "metadata": {
    "colab": {
     "base_uri": "https://localhost:8080/"
    },
    "executionInfo": {
     "elapsed": 1469,
     "status": "ok",
     "timestamp": 1629982855201,
     "user": {
      "displayName": "Sagar Saha",
      "photoUrl": "https://lh3.googleusercontent.com/a-/AOh14GicLETJuVBRiET1eCxKwWcSMrdeomVWv6nl6pk9JQ=s64",
      "userId": "04756931713955304096"
     },
     "user_tz": -360
    },
    "id": "3M4dtDopSg3J",
    "outputId": "f3a8464d-5a56-4cb2-db69-71356e17e380"
   },
   "outputs": [
    {
     "data": {
      "text/plain": [
       "(393933, 10)"
      ]
     },
     "execution_count": 6,
     "metadata": {},
     "output_type": "execute_result"
    }
   ],
   "source": [
    "df = data.drop_duplicates(subset=['UserId','ProfileName','Time','Text'],keep='first',inplace=False)\n",
    "df.shape"
   ]
  },
  {
   "cell_type": "markdown",
   "metadata": {
    "id": "1UieASn9b2QI"
   },
   "source": [
    "Our data points gets reduced to approx 69%"
   ]
  },
  {
   "cell_type": "code",
   "execution_count": 7,
   "metadata": {
    "colab": {
     "base_uri": "https://localhost:8080/"
    },
    "executionInfo": {
     "elapsed": 8,
     "status": "ok",
     "timestamp": 1629982855201,
     "user": {
      "displayName": "Sagar Saha",
      "photoUrl": "https://lh3.googleusercontent.com/a-/AOh14GicLETJuVBRiET1eCxKwWcSMrdeomVWv6nl6pk9JQ=s64",
      "userId": "04756931713955304096"
     },
     "user_tz": -360
    },
    "id": "9gZFVw3OSg8l",
    "outputId": "f3880ef8-16ea-40da-bf6e-6a184092be64"
   },
   "outputs": [
    {
     "name": "stdout",
     "output_type": "stream",
     "text": [
      "Remaining data is 69.29901100176971\n"
     ]
    }
   ],
   "source": [
    "#Checking to see how much % of data still remains\n",
    "print(f'Remaining data is {((df.shape[0]*1.0)/(data.shape[0]*1.0))*100}')"
   ]
  },
  {
   "cell_type": "code",
   "execution_count": 8,
   "metadata": {
    "colab": {
     "base_uri": "https://localhost:8080/"
    },
    "executionInfo": {
     "elapsed": 5,
     "status": "ok",
     "timestamp": 1629982855202,
     "user": {
      "displayName": "Sagar Saha",
      "photoUrl": "https://lh3.googleusercontent.com/a-/AOh14GicLETJuVBRiET1eCxKwWcSMrdeomVWv6nl6pk9JQ=s64",
      "userId": "04756931713955304096"
     },
     "user_tz": -360
    },
    "id": "93-1ECTvcaSB",
    "outputId": "4d392e35-0a67-46bd-e034-205e53e12b54"
   },
   "outputs": [
    {
     "data": {
      "text/plain": [
       "(393933, 10)"
      ]
     },
     "execution_count": 8,
     "metadata": {},
     "output_type": "execute_result"
    }
   ],
   "source": [
    "df.shape"
   ]
  },
  {
   "cell_type": "markdown",
   "metadata": {
    "id": "G7ojhujGveOi"
   },
   "source": [
    "# Analyisis of Reviews over time"
   ]
  },
  {
   "cell_type": "code",
   "execution_count": 9,
   "metadata": {
    "colab": {
     "base_uri": "https://localhost:8080/",
     "height": 401
    },
    "executionInfo": {
     "elapsed": 5467,
     "status": "ok",
     "timestamp": 1629982861582,
     "user": {
      "displayName": "Sagar Saha",
      "photoUrl": "https://lh3.googleusercontent.com/a-/AOh14GicLETJuVBRiET1eCxKwWcSMrdeomVWv6nl6pk9JQ=s64",
      "userId": "04756931713955304096"
     },
     "user_tz": -360
    },
    "id": "GxDcY1a5C13p",
    "outputId": "5f74e3f1-d36c-4e74-e4db-8a21c0875376"
   },
   "outputs": [
    {
     "data": {
      "image/png": "[encoded data removed]",
      "text/plain": [
       "<Figure size 1440x576 with 1 Axes>"
      ]
     },
     "metadata": {
      "needs_background": "light"
     },
     "output_type": "display_data"
    }
   ],
   "source": [
    "df['date'] = pd.to_datetime(df['Time'],unit='s')\n",
    "dff = df[['date','Text','Score']]\n",
    "dff.date = df.date.dt.strftime('%Y-%m')\n",
    "# dff['date'] = dff['date'].dt.to_timestamp()\n",
    "dff = dff.sort_values(by=['date']).reset_index(drop=True)\n",
    "dff_1 = dff[dff['Score'] == 1]\n",
    "dff_2 = dff[dff['Score'] == 2]\n",
    "dff_3 = dff[dff['Score'] == 3]\n",
    "dff_4 = dff[dff['Score'] == 4]\n",
    "dff_5 = dff[dff['Score'] == 5]\n",
    "\n",
    "dff_1 = dff_1.groupby('date')['Score'].count().reset_index()\n",
    "dff_2 = dff_2.groupby('date')['Score'].count().reset_index()\n",
    "dff_3 = dff_3.groupby('date')['Score'].count().reset_index()\n",
    "dff_5 = dff_4.groupby('date')['Score'].count().reset_index()\n",
    "dff_4 = dff_4.groupby('date')['Score'].count().reset_index()\n",
    "\n",
    "plt.figure(figsize=(20,8))\n",
    "\n",
    "plt.plot_date(x=dff_1['date'],y=dff_1['Score'],label='Score=1')\n",
    "plt.plot_date(x=dff_2['date'],y=dff_2['Score'],label='Score=2')\n",
    "plt.plot_date(x=dff_3['date'],y=dff_3['Score'],label='Score=3')\n",
    "plt.plot_date(x=dff_4['date'],y=dff_4['Score'],label='Score=4')\n",
    "plt.plot_date(x=dff_5['date'],y=dff_5['Score'],label='Score=5')\n",
    "plt.grid(linewidth=0.5,alpha=0.75)\n",
    "plt.xticks(rotation=90)\n",
    "plt.xlim('2000-01','2012-10')\n",
    "plt.xlabel('Date',fontsize=22)\n",
    "plt.ylabel('Number of review',fontsize=22)\n",
    "plt.title('Review trend from 2000 to 2012',fontsize=24);\n",
    "plt.savefig('review_trend.png')\n",
    "plt.legend()\n",
    "plt.show()"
   ]
  },
  {
   "cell_type": "markdown",
   "metadata": {
    "id": "i1AmntMVdJyM"
   },
   "source": [
    "# Analysis on Score (Target Variable)"
   ]
  },
  {
   "cell_type": "markdown",
   "metadata": {
    "id": "VlEPClP6tg9l"
   },
   "source": [
    "Now we will create our target variable from review stars. Before that we will filter only those reviews with rating > 3(positive) and less than 3(negative)"
   ]
  },
  {
   "cell_type": "code",
   "execution_count": 10,
   "metadata": {
    "colab": {
     "base_uri": "https://localhost:8080/"
    },
    "executionInfo": {
     "elapsed": 4,
     "status": "ok",
     "timestamp": 1629982862000,
     "user": {
      "displayName": "Sagar Saha",
      "photoUrl": "https://lh3.googleusercontent.com/a-/AOh14GicLETJuVBRiET1eCxKwWcSMrdeomVWv6nl6pk9JQ=s64",
      "userId": "04756931713955304096"
     },
     "user_tz": -360
    },
    "id": "O4R6G4uut2rh",
    "outputId": "487e8106-f24b-4c5b-aed6-3c7abfeb711e"
   },
   "outputs": [
    {
     "name": "stdout",
     "output_type": "stream",
     "text": [
      "Remaining data is 64.06217565537405\n"
     ]
    }
   ],
   "source": [
    "df = df[df['Score'] != 3]\n",
    "df.shape \n",
    "#Checking to see how much % of data still remains\n",
    "print(f'Remaining data is {((df.shape[0]*1.0)/(data.shape[0]*1.0))*100}')"
   ]
  },
  {
   "cell_type": "code",
   "execution_count": 11,
   "metadata": {
    "colab": {
     "base_uri": "https://localhost:8080/",
     "height": 434
    },
    "executionInfo": {
     "elapsed": 4,
     "status": "ok",
     "timestamp": 1629982862001,
     "user": {
      "displayName": "Sagar Saha",
      "photoUrl": "https://lh3.googleusercontent.com/a-/AOh14GicLETJuVBRiET1eCxKwWcSMrdeomVWv6nl6pk9JQ=s64",
      "userId": "04756931713955304096"
     },
     "user_tz": -360
    },
    "id": "6WhtqoyZSN6z",
    "outputId": "1c93627c-729f-43b0-bede-87869c591751"
   },
   "outputs": [
    {
     "data": {
      "text/html": [
       "<div>\n",
       "<style scoped>\n",
       "    .dataframe tbody tr th:only-of-type {\n",
       "        vertical-align: middle;\n",
       "    }\n",
       "\n",
       "    .dataframe tbody tr th {\n",
       "        vertical-align: top;\n",
       "    }\n",
       "\n",
       "    .dataframe thead th {\n",
       "        text-align: right;\n",
       "    }\n",
       "</style>\n",
       "<table border=\"1\" class=\"dataframe\">\n",
       "  <thead>\n",
       "    <tr style=\"text-align: right;\">\n",
       "      <th></th>\n",
       "      <th>Id</th>\n",
       "      <th>ProductId</th>\n",
       "      <th>UserId</th>\n",
       "      <th>ProfileName</th>\n",
       "      <th>HelpfulnessNumerator</th>\n",
       "      <th>HelpfulnessDenominator</th>\n",
       "      <th>Score</th>\n",
       "      <th>Time</th>\n",
       "      <th>Summary</th>\n",
       "      <th>Text</th>\n",
       "      <th>date</th>\n",
       "    </tr>\n",
       "  </thead>\n",
       "  <tbody>\n",
       "    <tr>\n",
       "      <th>0</th>\n",
       "      <td>1</td>\n",
       "      <td>B001E4KFG0</td>\n",
       "      <td>A3SGXH7AUHU8GW</td>\n",
       "      <td>delmartian</td>\n",
       "      <td>1</td>\n",
       "      <td>1</td>\n",
       "      <td>1</td>\n",
       "      <td>1303862400</td>\n",
       "      <td>Good Quality Dog Food</td>\n",
       "      <td>I have bought several of the Vitality canned d...</td>\n",
       "      <td>2011-04-27</td>\n",
       "    </tr>\n",
       "    <tr>\n",
       "      <th>1</th>\n",
       "      <td>2</td>\n",
       "      <td>B00813GRG4</td>\n",
       "      <td>A1D87F6ZCVE5NK</td>\n",
       "      <td>dll pa</td>\n",
       "      <td>0</td>\n",
       "      <td>0</td>\n",
       "      <td>0</td>\n",
       "      <td>1346976000</td>\n",
       "      <td>Not as Advertised</td>\n",
       "      <td>Product arrived labeled as Jumbo Salted Peanut...</td>\n",
       "      <td>2012-09-07</td>\n",
       "    </tr>\n",
       "    <tr>\n",
       "      <th>2</th>\n",
       "      <td>3</td>\n",
       "      <td>B000LQOCH0</td>\n",
       "      <td>ABXLMWJIXXAIN</td>\n",
       "      <td>Natalia Corres \"Natalia Corres\"</td>\n",
       "      <td>1</td>\n",
       "      <td>1</td>\n",
       "      <td>1</td>\n",
       "      <td>1219017600</td>\n",
       "      <td>\"Delight\" says it all</td>\n",
       "      <td>This is a confection that has been around a fe...</td>\n",
       "      <td>2008-08-18</td>\n",
       "    </tr>\n",
       "  </tbody>\n",
       "</table>\n",
       "</div>"
      ],
      "text/plain": [
       "   Id   ProductId          UserId                      ProfileName  \\\n",
       "0   1  B001E4KFG0  A3SGXH7AUHU8GW                       delmartian   \n",
       "1   2  B00813GRG4  A1D87F6ZCVE5NK                           dll pa   \n",
       "2   3  B000LQOCH0   ABXLMWJIXXAIN  Natalia Corres \"Natalia Corres\"   \n",
       "\n",
       "   HelpfulnessNumerator  HelpfulnessDenominator  Score        Time  \\\n",
       "0                     1                       1      1  1303862400   \n",
       "1                     0                       0      0  1346976000   \n",
       "2                     1                       1      1  1219017600   \n",
       "\n",
       "                 Summary                                               Text  \\\n",
       "0  Good Quality Dog Food  I have bought several of the Vitality canned d...   \n",
       "1      Not as Advertised  Product arrived labeled as Jumbo Salted Peanut...   \n",
       "2  \"Delight\" says it all  This is a confection that has been around a fe...   \n",
       "\n",
       "        date  \n",
       "0 2011-04-27  \n",
       "1 2012-09-07  \n",
       "2 2008-08-18  "
      ]
     },
     "execution_count": 11,
     "metadata": {},
     "output_type": "execute_result"
    }
   ],
   "source": [
    "score = df['Score'].apply(lambda x: 1 if x > 3 else 0)\n",
    "df['Score'] = score\n",
    "df.head(3)"
   ]
  },
  {
   "cell_type": "code",
   "execution_count": 12,
   "metadata": {
    "colab": {
     "base_uri": "https://localhost:8080/",
     "height": 404
    },
    "executionInfo": {
     "elapsed": 967,
     "status": "ok",
     "timestamp": 1629982863923,
     "user": {
      "displayName": "Sagar Saha",
      "photoUrl": "https://lh3.googleusercontent.com/a-/AOh14GicLETJuVBRiET1eCxKwWcSMrdeomVWv6nl6pk9JQ=s64",
      "userId": "04756931713955304096"
     },
     "user_tz": -360
    },
    "id": "l9x6fAO5cfo9",
    "outputId": "8bb5bb30-a20a-46a1-f25c-50ef7047a3e6"
   },
   "outputs": [
    {
     "data": {
      "image/png": "[encoded data removed]",
      "text/plain": [
       "<Figure size 576x432 with 1 Axes>"
      ]
     },
     "metadata": {
      "needs_background": "light"
     },
     "output_type": "display_data"
    }
   ],
   "source": [
    "plt.figure(figsize=(8,6))\n",
    "sns.countplot(df['Score'])\n",
    "plt.title('Target')\n",
    "plt.show()"
   ]
  },
  {
   "cell_type": "markdown",
   "metadata": {
    "id": "RZo4sdWXeqhf"
   },
   "source": [
    "**Observation:** It is clear that we have an imbalenced dataset for classification. So We cannot choose accuracy as a metric. So here we will go with AUC(Area under ROC curve)\n",
    "\n",
    "> Why accuracy not for imbalanced datasets? <br>\n",
    "\n",
    "Consider a scenario like this where we have imbalenced dataset. For example consider case of credit card fraud detection with 98% percentage of points as non-fraud(1) and rest 2% points as fraud(1). In such cases even if we predict all the points as non-fraud also we will get 98% accuracy. But actually it is not the case. So we can't use accuracy as a metric. <br>\n",
    "\n",
    "> What is AUC ROC?\n",
    "\n",
    "AUC is the area under ROC curve.It tells how much model is capable of distinguishing between classes. Higher the AUC, better the model is at predicting 0s as 0s and 1s as 1s. The ROC curve is plotted with TPR against the FPR where TPR is on y-axis and FPR is on the x-axis.\n"
   ]
  },
  {
   "cell_type": "markdown",
   "metadata": {
    "id": "IhrlknBagnCg"
   },
   "source": [
    "## Analysis On ProductId and UserId"
   ]
  },
  {
   "cell_type": "code",
   "execution_count": 13,
   "metadata": {
    "colab": {
     "base_uri": "https://localhost:8080/",
     "height": 111
    },
    "executionInfo": {
     "elapsed": 1177,
     "status": "ok",
     "timestamp": 1629982866537,
     "user": {
      "displayName": "Sagar Saha",
      "photoUrl": "https://lh3.googleusercontent.com/a-/AOh14GicLETJuVBRiET1eCxKwWcSMrdeomVWv6nl6pk9JQ=s64",
      "userId": "04756931713955304096"
     },
     "user_tz": -360
    },
    "id": "sz-Frv2mdPCb",
    "outputId": "4cd70aec-9222-4a5c-b9c0-3ddc9b9a448b"
   },
   "outputs": [
    {
     "data": {
      "text/html": [
       "<div>\n",
       "<style scoped>\n",
       "    .dataframe tbody tr th:only-of-type {\n",
       "        vertical-align: middle;\n",
       "    }\n",
       "\n",
       "    .dataframe tbody tr th {\n",
       "        vertical-align: top;\n",
       "    }\n",
       "\n",
       "    .dataframe thead th {\n",
       "        text-align: right;\n",
       "    }\n",
       "</style>\n",
       "<table border=\"1\" class=\"dataframe\">\n",
       "  <thead>\n",
       "    <tr style=\"text-align: right;\">\n",
       "      <th></th>\n",
       "      <th>UserId</th>\n",
       "      <th>No_of_products_purchased</th>\n",
       "    </tr>\n",
       "  </thead>\n",
       "  <tbody>\n",
       "    <tr>\n",
       "      <th>0</th>\n",
       "      <td>#oc-R103C0QSV1DF5E</td>\n",
       "      <td>1</td>\n",
       "    </tr>\n",
       "    <tr>\n",
       "      <th>1</th>\n",
       "      <td>#oc-R109MU5OBBZ59U</td>\n",
       "      <td>1</td>\n",
       "    </tr>\n",
       "  </tbody>\n",
       "</table>\n",
       "</div>"
      ],
      "text/plain": [
       "               UserId  No_of_products_purchased\n",
       "0  #oc-R103C0QSV1DF5E                         1\n",
       "1  #oc-R109MU5OBBZ59U                         1"
      ]
     },
     "execution_count": 13,
     "metadata": {},
     "output_type": "execute_result"
    }
   ],
   "source": [
    "# we will see the products brought by each customer\n",
    "\n",
    "purchases = df[['ProductId','UserId']].groupby('UserId').agg({'ProductId': ['count']})\n",
    "purchases.columns = ['No_of_products_purchased']\n",
    "purchases = purchases.reset_index()\n",
    "purchases.head(2)"
   ]
  },
  {
   "cell_type": "code",
   "execution_count": 14,
   "metadata": {
    "colab": {
     "base_uri": "https://localhost:8080/",
     "height": 487
    },
    "executionInfo": {
     "elapsed": 4,
     "status": "ok",
     "timestamp": 1629982866537,
     "user": {
      "displayName": "Sagar Saha",
      "photoUrl": "https://lh3.googleusercontent.com/a-/AOh14GicLETJuVBRiET1eCxKwWcSMrdeomVWv6nl6pk9JQ=s64",
      "userId": "04756931713955304096"
     },
     "user_tz": -360
    },
    "id": "dM1fslsMkA-Q",
    "outputId": "d33e5efc-9423-4971-ef9e-466b660eacdd"
   },
   "outputs": [
    {
     "data": {
      "image/png": "[encoded data removed]",
      "text/plain": [
       "<Figure size 360x360 with 1 Axes>"
      ]
     },
     "metadata": {
      "needs_background": "light"
     },
     "output_type": "display_data"
    },
    {
     "name": "stdout",
     "output_type": "stream",
     "text": [
      "count    243412.000000\n",
      "mean          1.496081\n",
      "std           2.537677\n",
      "min           1.000000\n",
      "25%           1.000000\n",
      "50%           1.000000\n",
      "75%           1.000000\n",
      "max         310.000000\n",
      "Name: No_of_products_purchased, dtype: float64\n"
     ]
    }
   ],
   "source": [
    "plt.figure(figsize=(5,5))\n",
    "purchases['No_of_products_purchased'].hist()\n",
    "plt.xlabel('No of purchases')\n",
    "plt.ylabel('No of users')\n",
    "plt.show()\n",
    "print(purchases['No_of_products_purchased'].describe())"
   ]
  },
  {
   "cell_type": "markdown",
   "metadata": {
    "id": "9ywyvh-vj2cO"
   },
   "source": [
    "We can see that majority of the users purchased only 1 product. Maximum number of product purchased by a single user is 310"
   ]
  },
  {
   "cell_type": "markdown",
   "metadata": {
    "id": "fwyFLroyk5EG"
   },
   "source": [
    "## Analysis on HelpfulnessNumerator and HelpfulnessDenominator"
   ]
  },
  {
   "cell_type": "markdown",
   "metadata": {
    "id": "umZOTFnplM5L"
   },
   "source": [
    "* Helpfulness Numerator: Number of users who found the review helpful\n",
    "* Helpfulness Denominator: Number of users who indicated whether they found the review helpful or not\n"
   ]
  },
  {
   "cell_type": "code",
   "execution_count": 15,
   "metadata": {
    "colab": {
     "base_uri": "https://localhost:8080/",
     "height": 335
    },
    "executionInfo": {
     "elapsed": 3,
     "status": "ok",
     "timestamp": 1629982868599,
     "user": {
      "displayName": "Sagar Saha",
      "photoUrl": "https://lh3.googleusercontent.com/a-/AOh14GicLETJuVBRiET1eCxKwWcSMrdeomVWv6nl6pk9JQ=s64",
      "userId": "04756931713955304096"
     },
     "user_tz": -360
    },
    "id": "y7xhF1awkNVB",
    "outputId": "464c2ee4-2a20-41d4-b499-e5863f3ec6f5"
   },
   "outputs": [
    {
     "data": {
      "text/html": [
       "<div>\n",
       "<style scoped>\n",
       "    .dataframe tbody tr th:only-of-type {\n",
       "        vertical-align: middle;\n",
       "    }\n",
       "\n",
       "    .dataframe tbody tr th {\n",
       "        vertical-align: top;\n",
       "    }\n",
       "\n",
       "    .dataframe thead th {\n",
       "        text-align: right;\n",
       "    }\n",
       "</style>\n",
       "<table border=\"1\" class=\"dataframe\">\n",
       "  <thead>\n",
       "    <tr style=\"text-align: right;\">\n",
       "      <th></th>\n",
       "      <th>Id</th>\n",
       "      <th>ProductId</th>\n",
       "      <th>UserId</th>\n",
       "      <th>ProfileName</th>\n",
       "      <th>HelpfulnessNumerator</th>\n",
       "      <th>HelpfulnessDenominator</th>\n",
       "      <th>Score</th>\n",
       "      <th>Time</th>\n",
       "      <th>Summary</th>\n",
       "      <th>Text</th>\n",
       "      <th>date</th>\n",
       "    </tr>\n",
       "  </thead>\n",
       "  <tbody>\n",
       "    <tr>\n",
       "      <th>44736</th>\n",
       "      <td>44737</td>\n",
       "      <td>B001EQ55RW</td>\n",
       "      <td>A2V0I904FH7ABY</td>\n",
       "      <td>Ram</td>\n",
       "      <td>3</td>\n",
       "      <td>2</td>\n",
       "      <td>1</td>\n",
       "      <td>1212883200</td>\n",
       "      <td>Pure cocoa taste with crunchy almonds inside</td>\n",
       "      <td>It was almost a 'love at first bite' - the per...</td>\n",
       "      <td>2008-06-08</td>\n",
       "    </tr>\n",
       "    <tr>\n",
       "      <th>64421</th>\n",
       "      <td>64422</td>\n",
       "      <td>B000MIDROQ</td>\n",
       "      <td>A161DK06JJMCYF</td>\n",
       "      <td>J. E. Stephens \"Jeanne\"</td>\n",
       "      <td>3</td>\n",
       "      <td>1</td>\n",
       "      <td>1</td>\n",
       "      <td>1224892800</td>\n",
       "      <td>Bought This for My Son at College</td>\n",
       "      <td>My son loves spaghetti so I didn't hesitate or...</td>\n",
       "      <td>2008-10-25</td>\n",
       "    </tr>\n",
       "  </tbody>\n",
       "</table>\n",
       "</div>"
      ],
      "text/plain": [
       "          Id   ProductId          UserId              ProfileName  \\\n",
       "44736  44737  B001EQ55RW  A2V0I904FH7ABY                      Ram   \n",
       "64421  64422  B000MIDROQ  A161DK06JJMCYF  J. E. Stephens \"Jeanne\"   \n",
       "\n",
       "       HelpfulnessNumerator  HelpfulnessDenominator  Score        Time  \\\n",
       "44736                     3                       2      1  1212883200   \n",
       "64421                     3                       1      1  1224892800   \n",
       "\n",
       "                                            Summary  \\\n",
       "44736  Pure cocoa taste with crunchy almonds inside   \n",
       "64421             Bought This for My Son at College   \n",
       "\n",
       "                                                    Text       date  \n",
       "44736  It was almost a 'love at first bite' - the per... 2008-06-08  \n",
       "64421  My son loves spaghetti so I didn't hesitate or... 2008-10-25  "
      ]
     },
     "execution_count": 15,
     "metadata": {},
     "output_type": "execute_result"
    }
   ],
   "source": [
    "df[df['HelpfulnessNumerator'] > df['HelpfulnessDenominator']]\n"
   ]
  },
  {
   "cell_type": "markdown",
   "metadata": {
    "id": "xpRRoxk3laSN"
   },
   "source": [
    "It was also seen that in two rows given below the value of HelpfulnessNumerator is greater than HelpfulnessDenominator which is not practically possible hence these two rows too are removed from calcualtions"
   ]
  },
  {
   "cell_type": "code",
   "execution_count": 16,
   "metadata": {
    "colab": {
     "base_uri": "https://localhost:8080/"
    },
    "executionInfo": {
     "elapsed": 2,
     "status": "ok",
     "timestamp": 1629982870629,
     "user": {
      "displayName": "Sagar Saha",
      "photoUrl": "https://lh3.googleusercontent.com/a-/AOh14GicLETJuVBRiET1eCxKwWcSMrdeomVWv6nl6pk9JQ=s64",
      "userId": "04756931713955304096"
     },
     "user_tz": -360
    },
    "id": "TlRyJO_IlamW",
    "outputId": "ce64b529-9959-4bcf-fedd-9251e97e841f"
   },
   "outputs": [
    {
     "data": {
      "text/plain": [
       "(364162, 11)"
      ]
     },
     "execution_count": 16,
     "metadata": {},
     "output_type": "execute_result"
    }
   ],
   "source": [
    "df = df[df['HelpfulnessNumerator'] <= df['HelpfulnessDenominator']]\n",
    "df.shape"
   ]
  },
  {
   "cell_type": "code",
   "execution_count": 17,
   "metadata": {
    "colab": {
     "base_uri": "https://localhost:8080/"
    },
    "executionInfo": {
     "elapsed": 2,
     "status": "ok",
     "timestamp": 1629982872424,
     "user": {
      "displayName": "Sagar Saha",
      "photoUrl": "https://lh3.googleusercontent.com/a-/AOh14GicLETJuVBRiET1eCxKwWcSMrdeomVWv6nl6pk9JQ=s64",
      "userId": "04756931713955304096"
     },
     "user_tz": -360
    },
    "id": "9TPw9hsSWJLH",
    "outputId": "7dcad234-7c52-40b0-e125-2c9e624f1a1f"
   },
   "outputs": [
    {
     "name": "stdout",
     "output_type": "stream",
     "text": [
      "Remaining data is 64.06182382391539\n"
     ]
    }
   ],
   "source": [
    "#Checking to see how much % of data still remains\n",
    "print(f'Remaining data is {((df.shape[0]*1.0)/(data.shape[0]*1.0))*100}')"
   ]
  },
  {
   "cell_type": "markdown",
   "metadata": {
    "id": "u2Kzf5ermOvH"
   },
   "source": [
    "## Preprocessing Text data\n",
    "\n",
    "Now that we have finished deduplication our data requires some preprocessing before we go on further with analysis and making the prediction model.\n",
    "\n",
    "Hence in the Preprocessing phase we do the following in the order below:-\n",
    "\n",
    "\n",
    "\n",
    "1. Begin by removing the html tags\n",
    "2. Remove any punctuations or limited set of special characters like , or . or # etc.\n",
    "3. Check if the word is made up of english letters and is not alpha-numeric\n",
    "4. Check to see if the length of the word is greater than 2 (as it was researched that there is no adjective in 2-letters)\n",
    "5. Convert the word to lowercase\n",
    "6. Remove Stopwords\n",
    "<!-- 7. Finally Snowball Stemming the word (it was obsereved to be better than Porter Stemming) -->\n",
    "\n",
    "\n",
    "\n",
    "\n"
   ]
  },
  {
   "cell_type": "code",
   "execution_count": 18,
   "metadata": {
    "executionInfo": {
     "elapsed": 2,
     "status": "ok",
     "timestamp": 1629982874330,
     "user": {
      "displayName": "Sagar Saha",
      "photoUrl": "https://lh3.googleusercontent.com/a-/AOh14GicLETJuVBRiET1eCxKwWcSMrdeomVWv6nl6pk9JQ=s64",
      "userId": "04756931713955304096"
     },
     "user_tz": -360
    },
    "id": "CN1Lcww2BbaS"
   },
   "outputs": [],
   "source": [
    "# df['text'] = df['Summary'] + df['Text']\n",
    "df['text'] = df['Text']"
   ]
  },
  {
   "cell_type": "code",
   "execution_count": 19,
   "metadata": {
    "colab": {
     "base_uri": "https://localhost:8080/"
    },
    "executionInfo": {
     "elapsed": 191429,
     "status": "ok",
     "timestamp": 1629983066191,
     "user": {
      "displayName": "Sagar Saha",
      "photoUrl": "https://lh3.googleusercontent.com/a-/AOh14GicLETJuVBRiET1eCxKwWcSMrdeomVWv6nl6pk9JQ=s64",
      "userId": "04756931713955304096"
     },
     "user_tz": -360
    },
    "id": "KJecP6zPmGgj",
    "outputId": "1804241e-3118-41e3-c7c0-6f0af374ffdd"
   },
   "outputs": [
    {
     "name": "stderr",
     "output_type": "stream",
     "text": [
      "100%|████████████████████████████████████████████████████████████████████████| 364162/364162 [02:30<00:00, 2421.56it/s]\n"
     ]
    }
   ],
   "source": [
    "# replacing some phrases like won't with will not\n",
    "\n",
    "def decontracted(phrase):\n",
    "    # specific\n",
    "    phrase = re.sub(r\"won't\", \"will not\", phrase)\n",
    "    phrase = re.sub(r\"can\\'t\", \"can not\", phrase)\n",
    "\n",
    "    # general\n",
    "    phrase = re.sub(r\"n\\'t\", \" not\", phrase)\n",
    "    phrase = re.sub(r\"\\'re\", \" are\", phrase)\n",
    "    phrase = re.sub(r\"\\'s\", \" is\", phrase)\n",
    "    phrase = re.sub(r\"\\'d\", \" would\", phrase)\n",
    "    phrase = re.sub(r\"\\'ll\", \" will\", phrase)\n",
    "    phrase = re.sub(r\"\\'t\", \" not\", phrase)\n",
    "    phrase = re.sub(r\"\\'ve\", \" have\", phrase)\n",
    "    phrase = re.sub(r\"\\'m\", \" am\", phrase)\n",
    "    return phrase\n",
    "\n",
    "\n",
    "stopwords= set(['br', 'the', 'i', 'me', 'my', 'myself', 'we', 'our', 'ours', 'ourselves', 'you', \"you're\", \"you've\",\\\n",
    "            \"you'll\", \"you'd\", 'your', 'yours', 'yourself', 'yourselves', 'he', 'him', 'his', 'himself', \\\n",
    "            'she', \"she's\", 'her', 'hers', 'herself', 'it', \"it's\", 'its', 'itself', 'they', 'them', 'their',\\\n",
    "            'theirs', 'themselves', 'what', 'which', 'who', 'whom', 'this', 'that', \"that'll\", 'these', 'those', \\\n",
    "            'am', 'is', 'are', 'was', 'were', 'be', 'been', 'being', 'have', 'has', 'had', 'having', 'do', 'does', \\\n",
    "            'did', 'doing', 'a', 'an', 'the', 'and', 'but', 'if', 'or', 'because', 'as', 'until', 'while', 'of', \\\n",
    "            'at', 'by', 'for', 'with', 'about', 'against', 'between', 'into', 'through', 'during', 'before', 'after',\\\n",
    "            'above', 'below', 'to', 'from', 'up', 'down', 'in', 'out', 'on', 'off', 'over', 'under', 'again', 'further',\\\n",
    "            'then', 'once', 'here', 'there', 'when', 'where', 'why', 'how', 'all', 'any', 'both', 'each', 'few', 'more',\\\n",
    "            'most', 'other', 'some', 'such', 'only', 'own', 'same', 'so', 'than', 'too', 'very', \\\n",
    "            's', 't', 'can', 'will', 'just', 'don', \"don't\", 'should', \"should've\", 'now', 'd', 'll', 'm', 'o', 're', \\\n",
    "            've', 'y', 'ain', 'aren', \"aren't\", 'couldn', \"couldn't\", 'didn', \"didn't\", 'doesn', \"doesn't\", 'hadn',\\\n",
    "            \"hadn't\", 'hasn', \"hasn't\", 'haven', \"haven't\", 'isn', \"isn't\", 'ma', 'mightn', \"mightn't\", 'mustn',\\\n",
    "            \"mustn't\", 'needn', \"needn't\", 'shan', \"shan't\", 'shouldn', \"shouldn't\", 'wasn', \"wasn't\", 'weren', \"weren't\", \\\n",
    "            'won', \"won't\", 'wouldn', \"wouldn't\"])\n",
    "\n",
    "\n",
    "\n",
    "preprocessed_reviews = []\n",
    "# tqdm is for printing the status bar\n",
    "for sentance in tqdm(df['text'].values):\n",
    "    sentance = re.sub(r\"http\\S+\", \"\", sentance)\n",
    "    # removing html tags\n",
    "    sentance = BeautifulSoup(sentance, 'lxml').get_text()\n",
    "    sentance = decontracted(sentance)\n",
    "    # removing extra spaces and numbers\n",
    "    sentance = re.sub(\"\\S*\\d\\S*\", \"\", sentance).strip()\n",
    "    # removing non alphabels\n",
    "    sentance = re.sub('[^A-Za-z]+', ' ', sentance)\n",
    "    # https://gist.github.com/sebleier/554280\n",
    "    sentance = ' '.join(e.lower() for e in sentance.split() if e.lower() not in stopwords)\n",
    "    preprocessed_reviews.append(sentance.strip())\n"
   ]
  },
  {
   "cell_type": "code",
   "execution_count": 20,
   "metadata": {
    "executionInfo": {
     "elapsed": 4571,
     "status": "ok",
     "timestamp": 1629983072096,
     "user": {
      "displayName": "Sagar Saha",
      "photoUrl": "https://lh3.googleusercontent.com/a-/AOh14GicLETJuVBRiET1eCxKwWcSMrdeomVWv6nl6pk9JQ=s64",
      "userId": "04756931713955304096"
     },
     "user_tz": -360
    },
    "id": "QOFa1Wp5mM1x"
   },
   "outputs": [],
   "source": [
    "#combining required columns\n",
    "df['clean_text'] = preprocessed_reviews\n",
    "df = df[['Time','clean_text','Score']]\n",
    "#reseting index\n",
    "df = df.reset_index(drop=True)\n",
    "#saving processed file\n",
    "df.to_csv('processed_df.csv',index=False)"
   ]
  },
  {
   "cell_type": "markdown",
   "metadata": {
    "id": "ae9BqOxx5KZ0"
   },
   "source": [
    "Reading Processed file"
   ]
  },
  {
   "cell_type": "code",
   "execution_count": 21,
   "metadata": {
    "colab": {
     "base_uri": "https://localhost:8080/",
     "height": 221
    },
    "executionInfo": {
     "elapsed": 1739,
     "status": "ok",
     "timestamp": 1629983073833,
     "user": {
      "displayName": "Sagar Saha",
      "photoUrl": "https://lh3.googleusercontent.com/a-/AOh14GicLETJuVBRiET1eCxKwWcSMrdeomVWv6nl6pk9JQ=s64",
      "userId": "04756931713955304096"
     },
     "user_tz": -360
    },
    "id": "a4gyoV9zl-h4",
    "outputId": "d7c622ba-daba-46da-b5a8-bce96c0492f9"
   },
   "outputs": [
    {
     "name": "stdout",
     "output_type": "stream",
     "text": [
      "(364162, 3)\n"
     ]
    },
    {
     "data": {
      "text/html": [
       "<div>\n",
       "<style scoped>\n",
       "    .dataframe tbody tr th:only-of-type {\n",
       "        vertical-align: middle;\n",
       "    }\n",
       "\n",
       "    .dataframe tbody tr th {\n",
       "        vertical-align: top;\n",
       "    }\n",
       "\n",
       "    .dataframe thead th {\n",
       "        text-align: right;\n",
       "    }\n",
       "</style>\n",
       "<table border=\"1\" class=\"dataframe\">\n",
       "  <thead>\n",
       "    <tr style=\"text-align: right;\">\n",
       "      <th></th>\n",
       "      <th>Time</th>\n",
       "      <th>clean_text</th>\n",
       "      <th>Score</th>\n",
       "    </tr>\n",
       "  </thead>\n",
       "  <tbody>\n",
       "    <tr>\n",
       "      <th>0</th>\n",
       "      <td>1303862400</td>\n",
       "      <td>bought several vitality canned dog food produc...</td>\n",
       "      <td>1</td>\n",
       "    </tr>\n",
       "    <tr>\n",
       "      <th>1</th>\n",
       "      <td>1346976000</td>\n",
       "      <td>product arrived labeled jumbo salted peanuts p...</td>\n",
       "      <td>0</td>\n",
       "    </tr>\n",
       "    <tr>\n",
       "      <th>2</th>\n",
       "      <td>1219017600</td>\n",
       "      <td>confection around centuries light pillowy citr...</td>\n",
       "      <td>1</td>\n",
       "    </tr>\n",
       "    <tr>\n",
       "      <th>3</th>\n",
       "      <td>1307923200</td>\n",
       "      <td>looking secret ingredient robitussin believe f...</td>\n",
       "      <td>0</td>\n",
       "    </tr>\n",
       "    <tr>\n",
       "      <th>4</th>\n",
       "      <td>1350777600</td>\n",
       "      <td>great taffy great price wide assortment yummy ...</td>\n",
       "      <td>1</td>\n",
       "    </tr>\n",
       "  </tbody>\n",
       "</table>\n",
       "</div>"
      ],
      "text/plain": [
       "         Time                                         clean_text  Score\n",
       "0  1303862400  bought several vitality canned dog food produc...      1\n",
       "1  1346976000  product arrived labeled jumbo salted peanuts p...      0\n",
       "2  1219017600  confection around centuries light pillowy citr...      1\n",
       "3  1307923200  looking secret ingredient robitussin believe f...      0\n",
       "4  1350777600  great taffy great price wide assortment yummy ...      1"
      ]
     },
     "execution_count": 21,
     "metadata": {},
     "output_type": "execute_result"
    }
   ],
   "source": [
    "df = pd.read_csv('processed_df.csv')\n",
    "print(df.shape)\n",
    "df.head()"
   ]
  },
  {
   "cell_type": "code",
   "execution_count": 22,
   "metadata": {
    "colab": {
     "base_uri": "https://localhost:8080/"
    },
    "executionInfo": {
     "elapsed": 9,
     "status": "ok",
     "timestamp": 1629983073834,
     "user": {
      "displayName": "Sagar Saha",
      "photoUrl": "https://lh3.googleusercontent.com/a-/AOh14GicLETJuVBRiET1eCxKwWcSMrdeomVWv6nl6pk9JQ=s64",
      "userId": "04756931713955304096"
     },
     "user_tz": -360
    },
    "id": "_KfqCKTK3BGO",
    "outputId": "acb97f69-6702-4723-e890-979cc9f49b79"
   },
   "outputs": [
    {
     "name": "stdout",
     "output_type": "stream",
     "text": [
      "<class 'pandas.core.frame.DataFrame'>\n",
      "RangeIndex: 364162 entries, 0 to 364161\n",
      "Data columns (total 3 columns):\n",
      " #   Column      Non-Null Count   Dtype \n",
      "---  ------      --------------   ----- \n",
      " 0   Time        364162 non-null  int64 \n",
      " 1   clean_text  363184 non-null  object\n",
      " 2   Score       364162 non-null  int64 \n",
      "dtypes: int64(2), object(1)\n",
      "memory usage: 8.3+ MB\n"
     ]
    }
   ],
   "source": [
    "df.info()"
   ]
  },
  {
   "cell_type": "code",
   "execution_count": 23,
   "metadata": {
    "colab": {
     "base_uri": "https://localhost:8080/"
    },
    "executionInfo": {
     "elapsed": 7,
     "status": "ok",
     "timestamp": 1629983073834,
     "user": {
      "displayName": "Sagar Saha",
      "photoUrl": "https://lh3.googleusercontent.com/a-/AOh14GicLETJuVBRiET1eCxKwWcSMrdeomVWv6nl6pk9JQ=s64",
      "userId": "04756931713955304096"
     },
     "user_tz": -360
    },
    "id": "2aHvKqz13E_9",
    "outputId": "6d2a83f3-e0fe-404e-a437-79019588029b"
   },
   "outputs": [
    {
     "data": {
      "text/plain": [
       "(363184, 3)"
      ]
     },
     "execution_count": 23,
     "metadata": {},
     "output_type": "execute_result"
    }
   ],
   "source": [
    "#one row is empty.we will drop it\n",
    "df = df.dropna(axis=0)\n",
    "df.shape"
   ]
  },
  {
   "cell_type": "markdown",
   "metadata": {
    "id": "Wn5rUeR5mFoP"
   },
   "source": [
    " We are considering time beacuse our reviews are developed over time.So splitting based on that makes more sense"
   ]
  },
  {
   "cell_type": "code",
   "execution_count": 24,
   "metadata": {
    "executionInfo": {
     "elapsed": 7,
     "status": "ok",
     "timestamp": 1629983073835,
     "user": {
      "displayName": "Sagar Saha",
      "photoUrl": "https://lh3.googleusercontent.com/a-/AOh14GicLETJuVBRiET1eCxKwWcSMrdeomVWv6nl6pk9JQ=s64",
      "userId": "04756931713955304096"
     },
     "user_tz": -360
    },
    "id": "18tHigqrmrc5"
   },
   "outputs": [],
   "source": [
    "#sampling 100k points \n",
    "df = df.sample(100000,random_state=100)"
   ]
  },
  {
   "cell_type": "code",
   "execution_count": 25,
   "metadata": {
    "executionInfo": {
     "elapsed": 6,
     "status": "ok",
     "timestamp": 1629983073835,
     "user": {
      "displayName": "Sagar Saha",
      "photoUrl": "https://lh3.googleusercontent.com/a-/AOh14GicLETJuVBRiET1eCxKwWcSMrdeomVWv6nl6pk9JQ=s64",
      "userId": "04756931713955304096"
     },
     "user_tz": -360
    },
    "id": "quq_hjaP2iVI"
   },
   "outputs": [],
   "source": [
    "#sortimg based on time\n",
    "df['Time'] = pd.to_datetime(df['Time'],unit='s')\n",
    "df = df.sort_values('Time')\n",
    "df = df.reset_index(drop=True)"
   ]
  },
  {
   "cell_type": "markdown",
   "metadata": {
    "id": "SOYqpdEimgb2"
   },
   "source": [
    "Now we will split the data to train,cv and test"
   ]
  },
  {
   "cell_type": "code",
   "execution_count": 26,
   "metadata": {
    "colab": {
     "base_uri": "https://localhost:8080/"
    },
    "executionInfo": {
     "elapsed": 410,
     "status": "ok",
     "timestamp": 1629983074239,
     "user": {
      "displayName": "Sagar Saha",
      "photoUrl": "https://lh3.googleusercontent.com/a-/AOh14GicLETJuVBRiET1eCxKwWcSMrdeomVWv6nl6pk9JQ=s64",
      "userId": "04756931713955304096"
     },
     "user_tz": -360
    },
    "id": "_55qWPv1m8Ci",
    "outputId": "b6583d85-ab61-4910-dea7-91217537dd9e"
   },
   "outputs": [
    {
     "name": "stdout",
     "output_type": "stream",
     "text": [
      "shape of X_train is (70000,)\n",
      "shape of X_test is (30000,)\n",
      "shape of y_train is (70000,)\n",
      "shape of y_test is (30000,)\n"
     ]
    }
   ],
   "source": [
    "#splitting data to train.cv and test\n",
    "from sklearn.model_selection import train_test_split\n",
    "x = df['clean_text']\n",
    "y = df['Score']\n",
    "X_train,X_test,y_train,y_test = train_test_split(x,y,test_size=0.3,stratify=y,random_state=100)\n",
    "# X_tr,X_cv,y_tr,y_cv = train_test_split(X_train,y_train,test_size=0.3,stratify=y_train,random_state=100)\n",
    "print(f'shape of X_train is {X_train.shape}')\n",
    "print(f'shape of X_test is {X_test.shape}')\n",
    "print(f'shape of y_train is {y_train.shape}')\n",
    "print(f'shape of y_test is {y_test.shape}')"
   ]
  },
  {
   "cell_type": "code",
   "execution_count": 27,
   "metadata": {
    "executionInfo": {
     "elapsed": 4,
     "status": "ok",
     "timestamp": 1629983074239,
     "user": {
      "displayName": "Sagar Saha",
      "photoUrl": "https://lh3.googleusercontent.com/a-/AOh14GicLETJuVBRiET1eCxKwWcSMrdeomVWv6nl6pk9JQ=s64",
      "userId": "04756931713955304096"
     },
     "user_tz": -360
    },
    "id": "97Oo-HPy6IBm"
   },
   "outputs": [],
   "source": [
    "np.save('saved_feats/X_train', X_train)\n",
    "np.save('saved_feats/y_train', y_train)\n",
    "np.save('saved_feats/X_test', X_test)\n",
    "np.save('saved_feats/y_test', y_test)\n"
   ]
  },
  {
   "cell_type": "markdown",
   "metadata": {
    "id": "qBDe3vCTnQCk"
   },
   "source": [
    "# Bag of Words"
   ]
  },
  {
   "cell_type": "code",
   "execution_count": 28,
   "metadata": {
    "colab": {
     "base_uri": "https://localhost:8080/"
    },
    "executionInfo": {
     "elapsed": 7509,
     "status": "ok",
     "timestamp": 1629983081744,
     "user": {
      "displayName": "Sagar Saha",
      "photoUrl": "https://lh3.googleusercontent.com/a-/AOh14GicLETJuVBRiET1eCxKwWcSMrdeomVWv6nl6pk9JQ=s64",
      "userId": "04756931713955304096"
     },
     "user_tz": -360
    },
    "id": "8AFbrmJFmmQI",
    "outputId": "6e6064a7-8432-415c-f202-db5fdf137ffa"
   },
   "outputs": [
    {
     "name": "stdout",
     "output_type": "stream",
     "text": [
      "shape of X_train_bow is (70000, 51047)\n",
      "shape of X_test_bow is (30000, 51047)\n"
     ]
    }
   ],
   "source": [
    "bow = CountVectorizer()\n",
    "bow.fit(X_train)\n",
    "X_train_bow = bow.transform(X_train)\n",
    "X_test_bow = bow.transform(X_test)\n",
    "bow_features = bow.get_feature_names()\n",
    "\n",
    "print('shape of X_train_bow is {}'.format(X_train_bow.get_shape()))\n",
    "print('shape of X_test_bow is {}'.format(X_test_bow.get_shape()))"
   ]
  },
  {
   "cell_type": "code",
   "execution_count": 29,
   "metadata": {
    "executionInfo": {
     "elapsed": 5,
     "status": "ok",
     "timestamp": 1629983081745,
     "user": {
      "displayName": "Sagar Saha",
      "photoUrl": "https://lh3.googleusercontent.com/a-/AOh14GicLETJuVBRiET1eCxKwWcSMrdeomVWv6nl6pk9JQ=s64",
      "userId": "04756931713955304096"
     },
     "user_tz": -360
    },
    "id": "Sg_Jf4_H3rUj"
   },
   "outputs": [],
   "source": [
    "#saving bow vectors\n",
    "import pickle\n",
    "pickle.dump(X_train_bow, open(\"saved_feats/X_train_bow\",\"wb\"))\n",
    "pickle.dump(X_test_bow, open(\"saved_feats/X_test_bow\",\"wb\"))\n",
    "pickle.dump(np.array(bow_features), open(\"saved_feats/bow_features\",\"wb\"))"
   ]
  },
  {
   "cell_type": "markdown",
   "metadata": {
    "id": "4_C5rWBDn7wO"
   },
   "source": [
    "# Tfidf"
   ]
  },
  {
   "cell_type": "code",
   "execution_count": 30,
   "metadata": {
    "executionInfo": {
     "elapsed": 7624,
     "status": "ok",
     "timestamp": 1629983089365,
     "user": {
      "displayName": "Sagar Saha",
      "photoUrl": "https://lh3.googleusercontent.com/a-/AOh14GicLETJuVBRiET1eCxKwWcSMrdeomVWv6nl6pk9JQ=s64",
      "userId": "04756931713955304096"
     },
     "user_tz": -360
    },
    "id": "NwL0TRibnYqr"
   },
   "outputs": [],
   "source": [
    "#applying bow on x_train and x_test\n",
    "vectorizer = TfidfVectorizer()\n",
    "vectorizer.fit(X_train)\n",
    "tfidf_features = vectorizer.get_feature_names()\n",
    "# we use the fitted CountVectorizer to convert the text to vector\n",
    "X_train_tfidf = vectorizer.transform(X_train)\n",
    "X_test_tfidf = vectorizer.transform(X_test)"
   ]
  },
  {
   "cell_type": "code",
   "execution_count": 31,
   "metadata": {
    "executionInfo": {
     "elapsed": 9,
     "status": "ok",
     "timestamp": 1629983089366,
     "user": {
      "displayName": "Sagar Saha",
      "photoUrl": "https://lh3.googleusercontent.com/a-/AOh14GicLETJuVBRiET1eCxKwWcSMrdeomVWv6nl6pk9JQ=s64",
      "userId": "04756931713955304096"
     },
     "user_tz": -360
    },
    "id": "MzKajhaL5kCN"
   },
   "outputs": [],
   "source": [
    "#saving tfidf vectors\n",
    "pickle.dump(X_train_tfidf, open(\"saved_feats/X_train_tfidf\",\"wb\"))\n",
    "pickle.dump(X_test_tfidf, open(\"saved_feats/X_test_tfidf\",\"wb\"))\n",
    "pickle.dump(np.array(tfidf_features), open(\"saved_feats/tfidf_features\",\"wb\"))"
   ]
  },
  {
   "cell_type": "markdown",
   "metadata": {
    "id": "HoK7lbmdomBJ"
   },
   "source": [
    "# Word2vec\n",
    "\n"
   ]
  },
  {
   "cell_type": "code",
   "execution_count": 32,
   "metadata": {
    "executionInfo": {
     "elapsed": 30182,
     "status": "ok",
     "timestamp": 1629983119540,
     "user": {
      "displayName": "Sagar Saha",
      "photoUrl": "https://lh3.googleusercontent.com/a-/AOh14GicLETJuVBRiET1eCxKwWcSMrdeomVWv6nl6pk9JQ=s64",
      "userId": "04756931713955304096"
     },
     "user_tz": -360
    },
    "id": "hfMVgvEiygg0"
   },
   "outputs": [],
   "source": [
    "preprocessed_reviews = X_train.values\n",
    "train_sentence = [rev.split() for rev in preprocessed_reviews]\n",
    "# min_count = 5 considers only words that occured atleast 5 times\n",
    "# size = length of vector\n",
    "w2v_model_train = Word2Vec(train_sentence,min_count=5,size=50, workers=4)\n",
    "w2v_words = list(w2v_model_train.wv.vocab)\n"
   ]
  },
  {
   "cell_type": "code",
   "execution_count": 33,
   "metadata": {
    "executionInfo": {
     "elapsed": 9,
     "status": "ok",
     "timestamp": 1629983119542,
     "user": {
      "displayName": "Sagar Saha",
      "photoUrl": "https://lh3.googleusercontent.com/a-/AOh14GicLETJuVBRiET1eCxKwWcSMrdeomVWv6nl6pk9JQ=s64",
      "userId": "04756931713955304096"
     },
     "user_tz": -360
    },
    "id": "P3DZCvlk6Ah4"
   },
   "outputs": [],
   "source": [
    "pickle.dump(np.array(w2v_words),open(\"saved_feats/w2v_words\",\"wb\"))"
   ]
  },
  {
   "cell_type": "markdown",
   "metadata": {
    "id": "Bk3gBvA-0KVC"
   },
   "source": [
    "# Average Word2vec"
   ]
  },
  {
   "cell_type": "code",
   "execution_count": 34,
   "metadata": {
    "colab": {
     "base_uri": "https://localhost:8080/"
    },
    "executionInfo": {
     "elapsed": 343301,
     "status": "ok",
     "timestamp": 1629983462835,
     "user": {
      "displayName": "Sagar Saha",
      "photoUrl": "https://lh3.googleusercontent.com/a-/AOh14GicLETJuVBRiET1eCxKwWcSMrdeomVWv6nl6pk9JQ=s64",
      "userId": "04756931713955304096"
     },
     "user_tz": -360
    },
    "id": "f_ALlkXJok0H",
    "outputId": "778dadc6-5947-42fc-8bae-3f8aed320d8d"
   },
   "outputs": [
    {
     "name": "stderr",
     "output_type": "stream",
     "text": [
      "100%|███████████████████████████████████████████████████████████████████████████| 70000/70000 [02:12<00:00, 527.94it/s]\n"
     ]
    },
    {
     "name": "stdout",
     "output_type": "stream",
     "text": [
      "70000\n",
      "50\n"
     ]
    },
    {
     "name": "stderr",
     "output_type": "stream",
     "text": [
      "100%|███████████████████████████████████████████████████████████████████████████| 30000/30000 [00:56<00:00, 534.42it/s]"
     ]
    },
    {
     "name": "stdout",
     "output_type": "stream",
     "text": [
      "30000\n",
      "50\n"
     ]
    },
    {
     "name": "stderr",
     "output_type": "stream",
     "text": [
      "\n"
     ]
    }
   ],
   "source": [
    "train_reviews = X_train.values\n",
    "train_sentence = [rev.split() for rev in train_reviews]\n",
    "\n",
    "sent_vectors_train = []\n",
    "for sent in tqdm(train_sentence):\n",
    "    sent_vec = np.zeros(50)\n",
    "    cnt_words = 0\n",
    "    for word in sent:\n",
    "        if word in w2v_words:\n",
    "            vector = w2v_model_train.wv[word]\n",
    "            sent_vec += vector\n",
    "            cnt_words += 1\n",
    "    if cnt_words != 0:\n",
    "        sent_vec /= cnt_words\n",
    "    sent_vectors_train.append(sent_vec)\n",
    "\n",
    "print(len(sent_vectors_train))\n",
    "print(len(sent_vectors_train[0]))\n",
    "\n",
    "########################################################\n",
    "test_reviews = X_test.values\n",
    "test_sentence = [rev.split() for rev in test_reviews]\n",
    "\n",
    "sent_vectors_test = []\n",
    "for sent in tqdm(test_sentence):\n",
    "    count = 0\n",
    "    sent_vec = np.zeros(50)\n",
    "    for word in sent:\n",
    "        if word in w2v_words:\n",
    "            vector = w2v_model_train.wv[word]\n",
    "            sent_vec += vector\n",
    "            count += 1\n",
    "            \n",
    "    if count != 0:\n",
    "        sent_vec /= count\n",
    "    sent_vectors_test.append(sent_vec)\n",
    "\n",
    "print(len(sent_vectors_test))\n",
    "print(len(sent_vectors_test[0]))"
   ]
  },
  {
   "cell_type": "code",
   "execution_count": 35,
   "metadata": {
    "executionInfo": {
     "elapsed": 747,
     "status": "ok",
     "timestamp": 1629983463569,
     "user": {
      "displayName": "Sagar Saha",
      "photoUrl": "https://lh3.googleusercontent.com/a-/AOh14GicLETJuVBRiET1eCxKwWcSMrdeomVWv6nl6pk9JQ=s64",
      "userId": "04756931713955304096"
     },
     "user_tz": -360
    },
    "id": "uB2SzuVPytFf"
   },
   "outputs": [],
   "source": [
    "X_train_avgw2v = np.array(sent_vectors_train)\n",
    "X_test_avgw2v = np.array(sent_vectors_test)\n",
    "\n",
    "pickle.dump(np.array(X_train_avgw2v), open(\"saved_feats/X_train_avgw2v\",\"wb\"))\n",
    "pickle.dump(np.array(X_test_avgw2v), open(\"saved_feats/X_test_avgw2v\",\"wb\"))\n",
    "\n"
   ]
  },
  {
   "cell_type": "markdown",
   "metadata": {
    "id": "8yN_PBsW0ZOY"
   },
   "source": [
    "# Tfidf Word2Vec"
   ]
  },
  {
   "cell_type": "code",
   "execution_count": 36,
   "metadata": {
    "executionInfo": {
     "elapsed": 2854,
     "status": "ok",
     "timestamp": 1629983466422,
     "user": {
      "displayName": "Sagar Saha",
      "photoUrl": "https://lh3.googleusercontent.com/a-/AOh14GicLETJuVBRiET1eCxKwWcSMrdeomVWv6nl6pk9JQ=s64",
      "userId": "04756931713955304096"
     },
     "user_tz": -360
    },
    "id": "xuBtyLO70QDD"
   },
   "outputs": [],
   "source": [
    "w2v_words = pickle.load(open(\"saved_feats/w2v_words\",\"rb\")).tolist()\n",
    "tfidf = TfidfVectorizer()\n",
    "tfidf.fit(X_train)\n",
    "dictionary = dict(zip(tfidf.get_feature_names(), list(tfidf.idf_)))\n",
    "tfidf_feats = tfidf.get_feature_names()\n",
    "\n",
    "#saving\n",
    "pickle.dump(tfidf_feats, open(\"saved_feats/tfidf_feats_w2v\",\"wb\"))\n"
   ]
  },
  {
   "cell_type": "code",
   "execution_count": 37,
   "metadata": {
    "colab": {
     "base_uri": "https://localhost:8080/"
    },
    "executionInfo": {
     "elapsed": 3447265,
     "status": "ok",
     "timestamp": 1629986913686,
     "user": {
      "displayName": "Sagar Saha",
      "photoUrl": "https://lh3.googleusercontent.com/a-/AOh14GicLETJuVBRiET1eCxKwWcSMrdeomVWv6nl6pk9JQ=s64",
      "userId": "04756931713955304096"
     },
     "user_tz": -360
    },
    "id": "UKp8qvD4Vc83",
    "outputId": "013fd4b3-f914-4d0f-f22f-c7c12ca8dbba"
   },
   "outputs": [
    {
     "name": "stderr",
     "output_type": "stream",
     "text": [
      "100%|████████████████████████████████████████████████████████████████████████████| 70000/70000 [26:08<00:00, 44.64it/s]"
     ]
    },
    {
     "name": "stdout",
     "output_type": "stream",
     "text": [
      "70000\n",
      "[-0.1663669   0.28401231 -0.34056037  0.80760565 -1.52763477  0.22032644\n",
      " -0.76681231  0.33003922  0.18940206 -0.12114063  0.71574117  0.34618893\n",
      " -0.62566126 -0.04775698  0.31445685 -0.52019845 -0.29117211  0.70962942\n",
      "  0.24602331  0.35659591 -0.19957469 -0.27253851 -0.2636465  -0.73309098\n",
      " -0.87910398 -0.67886493 -0.71686497 -0.62159378 -0.16191602 -0.26479732\n",
      " -1.1762003   0.37401188  0.53688394 -0.17892456  1.15868919  0.63604129\n",
      "  0.16386685  0.56688379 -0.75422984  0.29653533 -0.56998348  0.51584105\n",
      " -0.122087   -0.82585858 -0.34999428  0.31635187 -0.54193226  0.11532636\n",
      "  0.0907733   0.0472645 ]\n"
     ]
    },
    {
     "name": "stderr",
     "output_type": "stream",
     "text": [
      "\n"
     ]
    }
   ],
   "source": [
    "train_reviews = X_train.values\n",
    "train_sentence = [rev.split() for rev in train_reviews]\n",
    "sent_vectors_train = []\n",
    "for sent in tqdm(train_sentence):\n",
    "    sent_vec = np.zeros(50)\n",
    "    weight_sum = 0\n",
    "    for word in sent:\n",
    "        if word in tfidf_feats and word in w2v_words:\n",
    "            vec = w2v_model_train.wv[word]\n",
    "            # tf * idf\n",
    "            tfidf_value = (sent.count(word)/len(sent)) * dictionary[word] \n",
    "            vec = vec * tfidf_value\n",
    "            sent_vec += vec\n",
    "            weight_sum += tfidf_value\n",
    "    if weight_sum != 0:\n",
    "        sent_vec /= weight_sum\n",
    "    sent_vectors_train.append(sent_vec)\n",
    "print(len(sent_vectors_train))\n",
    "print(sent_vectors_train[0])\n",
    "X_train_tfw2v = sent_vectors_train\n",
    "\n",
    "pickle.dump(np.array(X_train_tfw2v), open(\"saved_feats/X_train_tfw2v\",\"wb\"))"
   ]
  },
  {
   "cell_type": "code",
   "execution_count": 38,
   "metadata": {
    "colab": {
     "base_uri": "https://localhost:8080/"
    },
    "executionInfo": {
     "elapsed": 1440401,
     "status": "ok",
     "timestamp": 1629988354069,
     "user": {
      "displayName": "Sagar Saha",
      "photoUrl": "https://lh3.googleusercontent.com/a-/AOh14GicLETJuVBRiET1eCxKwWcSMrdeomVWv6nl6pk9JQ=s64",
      "userId": "04756931713955304096"
     },
     "user_tz": -360
    },
    "id": "EFUBeYSz0bl6",
    "outputId": "c05accc4-2194-416c-b575-61299a5706ab"
   },
   "outputs": [
    {
     "name": "stderr",
     "output_type": "stream",
     "text": [
      "100%|████████████████████████████████████████████████████████████████████████████| 30000/30000 [11:07<00:00, 44.95it/s]"
     ]
    },
    {
     "name": "stdout",
     "output_type": "stream",
     "text": [
      "30000\n",
      "[ 0.41274988  0.09911255 -0.10713443  0.27755264  0.52083549 -0.49242456\n",
      " -0.54690572  0.46298766 -0.06162665  0.44905028  0.41770627  0.32118573\n",
      " -0.02748758 -0.32354093  0.0226695   0.16480062 -0.57994104  0.40159338\n",
      "  0.47635119  0.20645705 -0.49795153 -0.56481971 -0.76953557 -0.47136076\n",
      " -0.00248475  0.49865976 -0.03726295 -0.13264584 -0.47441077  0.18081138\n",
      " -0.43959853  0.1144064   0.50227517 -0.67413458  0.58183749 -0.15563728\n",
      "  0.25710383  0.77194352 -0.08701896 -0.40427783 -0.05996446  0.35670254\n",
      "  0.08235193  0.36864715 -0.31689686  0.47926     0.04228633 -0.01406682\n",
      " -0.35579937  0.06221005]\n"
     ]
    },
    {
     "name": "stderr",
     "output_type": "stream",
     "text": [
      "\n"
     ]
    }
   ],
   "source": [
    "test_reviews = X_test.values\n",
    "test_sentence = [rev.split() for rev in test_reviews]\n",
    "sent_vectors_test = []\n",
    "for sent in tqdm(test_sentence):\n",
    "    sent_vec = np.zeros(50)\n",
    "    weight_sum = 0\n",
    "    for word in sent:\n",
    "        if word in tfidf_feats and word in w2v_words:\n",
    "            vec = w2v_model_train.wv[word]\n",
    "            # tf * idf\n",
    "            tfidf_value = (sent.count(word)/len(sent)) * dictionary[word] \n",
    "            vec = vec * tfidf_value\n",
    "            sent_vec += vec\n",
    "            weight_sum += tfidf_value\n",
    "    if weight_sum != 0:\n",
    "        sent_vec /= weight_sum\n",
    "    sent_vectors_test.append(sent_vec)\n",
    "print(len(sent_vectors_test))\n",
    "print(sent_vectors_test[0])   "
   ]
  },
  {
   "cell_type": "code",
   "execution_count": 39,
   "metadata": {
    "executionInfo": {
     "elapsed": 26,
     "status": "ok",
     "timestamp": 1629988354070,
     "user": {
      "displayName": "Sagar Saha",
      "photoUrl": "https://lh3.googleusercontent.com/a-/AOh14GicLETJuVBRiET1eCxKwWcSMrdeomVWv6nl6pk9JQ=s64",
      "userId": "04756931713955304096"
     },
     "user_tz": -360
    },
    "id": "m_C8i_Jl05vW"
   },
   "outputs": [],
   "source": [
    "\n",
    "X_test_tfw2v = sent_vectors_test\n",
    "\n",
    "pickle.dump(np.array(X_test_tfw2v), open(\"saved_feats/X_test_tfw2v\",\"wb\"))"
   ]
  },
  {
   "cell_type": "markdown",
   "metadata": {
    "id": "9sp5s3Ht_FtA"
   },
   "source": [
    "## Loading saved vectors"
   ]
  },
  {
   "cell_type": "code",
   "execution_count": 40,
   "metadata": {
    "colab": {
     "base_uri": "https://localhost:8080/"
    },
    "executionInfo": {
     "elapsed": 930,
     "status": "ok",
     "timestamp": 1629988354996,
     "user": {
      "displayName": "Sagar Saha",
      "photoUrl": "https://lh3.googleusercontent.com/a-/AOh14GicLETJuVBRiET1eCxKwWcSMrdeomVWv6nl6pk9JQ=s64",
      "userId": "04756931713955304096"
     },
     "user_tz": -360
    },
    "id": "xpafp-7A3wE7",
    "outputId": "ea7e3d08-135f-4808-e72e-af14cb67965d"
   },
   "outputs": [
    {
     "name": "stdout",
     "output_type": "stream",
     "text": [
      "shape of X_train_bow is (70000, 51047)\n",
      "shape of X_test_bow is (30000, 51047)\n",
      "shape of X_train_tfidf is (70000, 51047)\n",
      "shape of X_test_tfidf is (30000, 51047)\n",
      "shape of X_train_avgw2v is (70000, 50)\n",
      "shape of X_test_avgw2v is (30000, 50)\n",
      "shape of X_train_tfw2v is (70000, 50)\n",
      "shape of X_test_tfw2v is (30000, 50)\n",
      "shape of y_train is (70000,)\n",
      "shape of y_test is (30000,)\n"
     ]
    }
   ],
   "source": [
    "# loading bow vectors\n",
    "X_train_bow = pickle.load(open(\"saved_feats/X_train_bow\",\"rb\"))\n",
    "X_test_bow = pickle.load(open(\"saved_feats/X_test_bow\",\"rb\"))\n",
    "bow_features = pickle.load(open(\"saved_feats/bow_features\",\"rb\")).tolist()\n",
    "print('shape of X_train_bow is {}'.format(X_train_bow.shape))\n",
    "print('shape of X_test_bow is {}'.format(X_test_bow.shape))\n",
    "\n",
    "\n",
    "#loading tfidf vectors\n",
    "X_train_tfidf = pickle.load(open(\"saved_feats/X_train_tfidf\",\"rb\"))\n",
    "X_test_tfidf = pickle.load(open(\"saved_feats/X_test_tfidf\",\"rb\"))\n",
    "tfidf_features = pickle.load(open(\"saved_feats/tfidf_features\",\"rb\")).tolist()\n",
    "print('shape of X_train_tfidf is {}'.format(X_train_tfidf.shape))\n",
    "print('shape of X_test_tfidf is {}'.format(X_test_tfidf.shape))\n",
    "\n",
    "\n",
    "w2v_words = pickle.load(open(\"saved_feats/w2v_words\",\"rb\")).tolist()\n",
    "#avgw2v\n",
    "X_train_avgw2v = pickle.load(open(\"saved_feats/X_train_avgw2v\",\"rb\"))\n",
    "X_test_avgw2v = pickle.load(open(\"saved_feats/X_test_avgw2v\",\"rb\"))\n",
    "print('shape of X_train_avgw2v is {}'.format(X_train_avgw2v.shape))\n",
    "print('shape of X_test_avgw2v is {}'.format(X_test_avgw2v.shape))\n",
    "\n",
    "\n",
    "#tfidf-w2v\n",
    "X_train_tfw2v = pickle.load(open(\"saved_feats/X_train_tfw2v\",\"rb\"))\n",
    "X_test_tfw2v = pickle.load(open(\"saved_feats/X_test_tfw2v\",\"rb\"))\n",
    "print('shape of X_train_tfw2v is {}'.format(X_train_tfw2v.shape))\n",
    "print('shape of X_test_tfw2v is {}'.format(X_test_tfw2v.shape))\n",
    "\n",
    "\n",
    "y_train = np.load('saved_feats/y_train.npy',allow_pickle=True)\n",
    "y_test = np.load('saved_feats/y_test.npy',allow_pickle=True)\n",
    "print(f'shape of y_train is {y_train.shape}')\n",
    "print(f'shape of y_test is {y_test.shape}')"
   ]
  },
  {
   "cell_type": "code",
   "execution_count": null,
   "metadata": {
    "id": "7CP4jhVFodI7"
   },
   "outputs": [],
   "source": []
  }
 ],
 "metadata": {
  "colab": {
   "collapsed_sections": [],
   "name": "1. EDA_and_datapreprocessing.ipynb",
   "provenance": []
  },
  "kernelspec": {
   "display_name": "Python 3",
   "language": "python",
   "name": "python3"
  },
  "language_info": {
   "codemirror_mode": {
    "name": "ipython",
    "version": 3
   },
   "file_extension": ".py",
   "mimetype": "text/x-python",
   "name": "python",
   "nbconvert_exporter": "python",
   "pygments_lexer": "ipython3",
   "version": "3.6.13"
  }
 },
 "nbformat": 4,
 "nbformat_minor": 1
}
